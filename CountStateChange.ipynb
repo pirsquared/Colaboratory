{
  "nbformat": 4,
  "nbformat_minor": 0,
  "metadata": {
    "colab": {
      "name": "CountStateChange",
      "version": "0.3.2",
      "provenance": [],
      "collapsed_sections": [],
      "include_colab_link": true
    },
    "kernelspec": {
      "name": "python3",
      "display_name": "Python 3"
    }
  },
  "cells": [
    {
      "cell_type": "markdown",
      "metadata": {
        "id": "view-in-github",
        "colab_type": "text"
      },
      "source": [
        "<a href=\"https://colab.research.google.com/github/pirsquared/Colaboratory/blob/master/CountStateChange.ipynb\" target=\"_parent\"><img src=\"https://colab.research.google.com/assets/colab-badge.svg\" alt=\"Open In Colab\"/></a>"
      ]
    },
    {
      "metadata": {
        "id": "4s7We_Vcco2S",
        "colab_type": "text"
      },
      "cell_type": "markdown",
      "source": [
        "# Imports"
      ]
    },
    {
      "metadata": {
        "id": "e74_WsX8kNgI",
        "colab_type": "code",
        "colab": {}
      },
      "cell_type": "code",
      "source": [
        "import pandas as pd\n",
        "import numpy as np\n",
        "from timeit import timeit\n",
        "\n",
        "pd.set_option(\n",
        "    'display.notebook_repr_html', False,\n",
        "    'expand_frame_repr', False,\n",
        "    'display.max_colwidth', 50\n",
        ")\n",
        "\n",
        "%matplotlib inline"
      ],
      "execution_count": 0,
      "outputs": []
    },
    {
      "metadata": {
        "id": "51jsfB07dqeG",
        "colab_type": "text"
      },
      "cell_type": "markdown",
      "source": [
        "# [how-to-count-the-number-of-state-change-in-pandas](https://stackoverflow.com/a/53190603/2336654)"
      ]
    },
    {
      "metadata": {
        "id": "O0mGKi29bjdw",
        "colab_type": "code",
        "colab": {}
      },
      "cell_type": "code",
      "source": [
        "def pir_xor(df):\n",
        "  v = df.values\n",
        "  return pd.Series((v[1:] ^ v[:-1]).sum(0), df.columns)\n",
        "\n",
        "def pir_diff1(df):\n",
        "  v = df.values\n",
        "  return pd.Series(np.abs(np.diff(v, axis=0)).sum(0), df.columns)\n",
        "\n",
        "def pir_diff2(df):\n",
        "  v = df.values\n",
        "  return pd.Series(np.diff(v.astype(np.bool), axis=0).sum(0), df.columns)\n",
        "\n",
        "def cold(df):\n",
        "  return df.ne(df.shift(-1)).sum(0) - 1\n",
        "\n",
        "def jez(df):\n",
        "  return df.rolling(2).apply(lambda x: x[0] != x[-1]).sum().astype(int)\n",
        "\n",
        "def naga(df):\n",
        "  return df.diff().abs().sum().astype(int)\n"
      ],
      "execution_count": 0,
      "outputs": []
    },
    {
      "metadata": {
        "id": "9xbc0U6Mdj1k",
        "colab_type": "code",
        "colab": {}
      },
      "cell_type": "code",
      "source": [
        "np.random.seed([3, 1415])\n",
        "\n",
        "idx = [10, 30, 100, 300, 1000, 3000, 10000, 30000, 100000, 300000]\n",
        "col = 'pir_xor pir_diff1 pir_diff2 cold jez naga'.split()\n",
        "res = pd.DataFrame(np.nan, idx, col)\n",
        "\n",
        "for i in idx:\n",
        "  df = pd.DataFrame(np.random.choice([0, 1], size=(i, 3)), columns=[*'abc'])\n",
        "  for j in col:\n",
        "    stmt = f\"{j}(df)\"\n",
        "    setp = f\"from __main__ import {j}, df\"\n",
        "    res.at[i, j] = timeit(stmt, setp, number=100)"
      ],
      "execution_count": 0,
      "outputs": []
    },
    {
      "metadata": {
        "id": "9G2KnLiae6dP",
        "colab_type": "code",
        "outputId": "d452f718-be06-46a2-a6d1-4cdabd6f87c1",
        "colab": {
          "base_uri": "https://localhost:8080/",
          "height": 209
        }
      },
      "cell_type": "code",
      "source": [
        "res.div(res.min(1), 0)"
      ],
      "execution_count": 9,
      "outputs": [
        {
          "output_type": "execute_result",
          "data": {
            "text/plain": [
              "        pir_xor  pir_diff1  pir_diff2       cold         jez      naga\n",
              "10      1.06203   1.119769   1.000000  21.217555   16.768532  6.601518\n",
              "30      1.00000   1.075406   1.115743  23.229013   18.844025  7.212369\n",
              "100     1.00000   1.134082   1.174973  22.673289   21.478068  7.519898\n",
              "300     1.00000   1.119153   1.166782  21.725495   26.293712  7.215490\n",
              "1000    1.00000   1.106267   1.167786  18.394462   37.925160  6.284253\n",
              "3000    1.00000   1.118554   1.342192  16.053097   64.953310  5.594610\n",
              "10000   1.00000   1.163557   1.511631  12.008129  106.466636  4.503359\n",
              "30000   1.00000   1.249835   1.431120   7.826387  118.380227  3.621455\n",
              "100000  1.00000   1.275272   1.528840   6.690012  131.912349  3.150155\n",
              "300000  1.00000   1.279373   1.528238   6.301007  140.667427  3.190868"
            ]
          },
          "metadata": {
            "tags": []
          },
          "execution_count": 9
        }
      ]
    },
    {
      "metadata": {
        "id": "yaBep7PNfxDQ",
        "colab_type": "code",
        "colab": {
          "base_uri": "https://localhost:8080/",
          "height": 290
        },
        "outputId": "065229f0-7b90-4e3e-c673-7665af17c1be"
      },
      "cell_type": "code",
      "source": [
        "res.plot(loglog=True, figsize=(8, 4))"
      ],
      "execution_count": 11,
      "outputs": [
        {
          "output_type": "execute_result",
          "data": {
            "text/plain": [
              "<matplotlib.axes._subplots.AxesSubplot at 0x7f0f24e6d1d0>"
            ]
          },
          "metadata": {
            "tags": []
          },
          "execution_count": 11
        },
        {
          "output_type": "display_data",
          "data": {
            "image/png": "[encoded data removed]",
            "text/plain": [
              "<matplotlib.figure.Figure at 0x7f0f24f6a9e8>"
            ]
          },
          "metadata": {
            "tags": []
          }
        }
      ]
    },
    {
      "metadata": {
        "id": "GRRC4Vejgyzi",
        "colab_type": "code",
        "colab": {}
      },
      "cell_type": "code",
      "source": [
        ""
      ],
      "execution_count": 0,
      "outputs": []
    }
  ]
}