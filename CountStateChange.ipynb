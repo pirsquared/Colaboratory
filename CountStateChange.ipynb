{
  "nbformat": 4,
  "nbformat_minor": 0,
  "metadata": {
    "colab": {
      "name": "CountStateChange",
      "version": "0.3.2",
      "provenance": [],
      "collapsed_sections": [],
      "include_colab_link": true
    },
    "kernelspec": {
      "name": "python3",
      "display_name": "Python 3"
    }
  },
  "cells": [
    {
      "cell_type": "markdown",
      "metadata": {
        "id": "view-in-github",
        "colab_type": "text"
      },
      "source": [
        "<a href=\"https://colab.research.google.com/github/pirsquared/Colaboratory/blob/master/CountStateChange.ipynb\" target=\"_parent\"><img src=\"https://colab.research.google.com/assets/colab-badge.svg\" alt=\"Open In Colab\"/></a>"
      ]
    },
    {
      "metadata": {
        "id": "4s7We_Vcco2S",
        "colab_type": "text"
      },
      "cell_type": "markdown",
      "source": [
        "# Imports"
      ]
    },
    {
      "metadata": {
        "id": "e74_WsX8kNgI",
        "colab_type": "code",
        "colab": {}
      },
      "cell_type": "code",
      "source": [
        "import pandas as pd\n",
        "import numpy as np\n",
        "from timeit import timeit\n",
        "\n",
        "pd.set_option(\n",
        "    'display.notebook_repr_html', False,\n",
        "    'expand_frame_repr', False,\n",
        "    'display.max_colwidth', 50\n",
        ")\n",
        "\n",
        "%matplotlib inline"
      ],
      "execution_count": 0,
      "outputs": []
    },
    {
      "metadata": {
        "id": "51jsfB07dqeG",
        "colab_type": "text"
      },
      "cell_type": "markdown",
      "source": [
        "# [how-to-count-the-number-of-state-change-in-pandas](https://stackoverflow.com/a/53190603/2336654)"
      ]
    },
    {
      "metadata": {
        "id": "BUsn7CqViQ09",
        "colab_type": "text"
      },
      "cell_type": "markdown",
      "source": [
        "# Functions"
      ]
    },
    {
      "metadata": {
        "id": "O0mGKi29bjdw",
        "colab_type": "code",
        "colab": {}
      },
      "cell_type": "code",
      "source": [
        "def pir_xor(df):\n",
        "  v = df.values\n",
        "  return pd.Series((v[1:] ^ v[:-1]).sum(0), df.columns)\n",
        "\n",
        "def pir_diff1(df):\n",
        "  v = df.values\n",
        "  return pd.Series(np.abs(np.diff(v, axis=0)).sum(0), df.columns)\n",
        "\n",
        "def pir_diff2(df):\n",
        "  v = df.values\n",
        "  return pd.Series(np.diff(v.astype(np.bool), axis=0).sum(0), df.columns)\n",
        "\n",
        "def cold(df):\n",
        "  return df.ne(df.shift(-1)).sum(0) - 1\n",
        "\n",
        "def jez(df):\n",
        "  return df.rolling(2).apply(lambda x: x[0] != x[-1]).sum().astype(int)\n",
        "\n",
        "def naga(df):\n",
        "  return df.diff().abs().sum().astype(int)\n"
      ],
      "execution_count": 0,
      "outputs": []
    },
    {
      "metadata": {
        "id": "4vLG9-O9iWGa",
        "colab_type": "text"
      },
      "cell_type": "markdown",
      "source": [
        "## Testing"
      ]
    },
    {
      "metadata": {
        "id": "9xbc0U6Mdj1k",
        "colab_type": "code",
        "colab": {}
      },
      "cell_type": "code",
      "source": [
        "np.random.seed([3, 1415])\n",
        "\n",
        "idx = [a * 10 ** b for b in range(1, 6) for a in [1, 3]]\n",
        "col = 'pir_xor pir_diff1 pir_diff2 cold jez naga'.split()\n",
        "res = pd.DataFrame(np.nan, idx, col)\n",
        "\n",
        "for i in idx:\n",
        "  df = pd.DataFrame(np.random.choice([0, 1], size=(i, 3)), columns=[*'abc'])\n",
        "  for j in col:\n",
        "    stmt = f\"{j}(df)\"\n",
        "    setp = f\"from __main__ import {j}, df\"\n",
        "    res.at[i, j] = timeit(stmt, setp, number=100)"
      ],
      "execution_count": 0,
      "outputs": []
    },
    {
      "metadata": {
        "id": "BzJUDyMNiYvh",
        "colab_type": "text"
      },
      "cell_type": "markdown",
      "source": [
        "## Results\n",
        "Divide each row by the minimum for that row.  The resulting `DataFrame` will show `1` for the method what was fastest for that rows sized input.  Each other column will show how many times longer it took relative to the fastest method."
      ]
    },
    {
      "metadata": {
        "id": "9G2KnLiae6dP",
        "colab_type": "code",
        "outputId": "44044243-2e0c-446d-ceb4-1d1141a678c0",
        "colab": {
          "base_uri": "https://localhost:8080/",
          "height": 209
        }
      },
      "cell_type": "code",
      "source": [
        "res.div(res.min(1), 0)"
      ],
      "execution_count": 13,
      "outputs": [
        {
          "output_type": "execute_result",
          "data": {
            "text/plain": [
              "        pir_xor  pir_diff1  pir_diff2       cold         jez      naga\n",
              "10          1.0   1.104605   1.460004  23.029604   17.985967  6.956112\n",
              "30          1.0   1.160922   1.170826  23.267328   19.911895  7.619579\n",
              "100         1.0   1.076230   1.123510  22.116657   20.748737  7.257605\n",
              "300         1.0   1.149587   1.205330  22.709190   26.604307  7.729752\n",
              "1000        1.0   1.142708   1.270273  19.988952   38.409233  6.712393\n",
              "3000        1.0   1.181403   1.381492  16.574421   62.748852  5.852130\n",
              "10000       1.0   1.193205   1.532198  11.737763   98.649642  4.572863\n",
              "30000       1.0   1.285822   1.435110   8.073300  109.580358  3.636565\n",
              "100000      1.0   1.288252   1.499706   6.726517  123.905816  3.245352\n",
              "300000      1.0   1.272545   1.537031   6.336648  130.239846  3.131928"
            ]
          },
          "metadata": {
            "tags": []
          },
          "execution_count": 13
        }
      ]
    },
    {
      "metadata": {
        "id": "tnBIHLOkizdi",
        "colab_type": "text"
      },
      "cell_type": "markdown",
      "source": [
        "### Chart\n",
        "In loglog space."
      ]
    },
    {
      "metadata": {
        "id": "yaBep7PNfxDQ",
        "colab_type": "code",
        "outputId": "b37ae677-d243-4203-a08f-17a880d404f6",
        "colab": {
          "base_uri": "https://localhost:8080/",
          "height": 292
        }
      },
      "cell_type": "code",
      "source": [
        "res.plot(loglog=True, figsize=(8, 4))"
      ],
      "execution_count": 14,
      "outputs": [
        {
          "output_type": "execute_result",
          "data": {
            "text/plain": [
              "<matplotlib.axes._subplots.AxesSubplot at 0x7f0f24cbddd8>"
            ]
          },
          "metadata": {
            "tags": []
          },
          "execution_count": 14
        },
        {
          "output_type": "display_data",
          "data": {
            "image/png": "[encoded data removed]",
            "text/plain": [
              "<matplotlib.figure.Figure at 0x7f0f24c02c88>"
            ]
          },
          "metadata": {
            "tags": []
          }
        }
      ]
    },
    {
      "metadata": {
        "id": "GRRC4Vejgyzi",
        "colab_type": "code",
        "colab": {}
      },
      "cell_type": "code",
      "source": [
        ""
      ],
      "execution_count": 0,
      "outputs": []
    }
  ]
}