{
  "nbformat": 4,
  "nbformat_minor": 0,
  "metadata": {
    "colab": {
      "name": "Find position of maximum per unique bin (binargmax).ipynb",
      "version": "0.3.2",
      "provenance": [],
      "collapsed_sections": [],
      "include_colab_link": true
    },
    "kernelspec": {
      "name": "python3",
      "display_name": "Python 3"
    }
  },
  "cells": [
    {
      "cell_type": "markdown",
      "metadata": {
        "id": "view-in-github",
        "colab_type": "text"
      },
      "source": [
        "[View in Colaboratory](https://colab.research.google.com/github/pirsquared/Colaboratory/blob/master/Find_position_of_maximum_per_unique_bin_(binargmax).ipynb)"
      ]
    },
    {
      "metadata": {
        "id": "iq3iBxZHldCU",
        "colab_type": "text"
      },
      "cell_type": "markdown",
      "source": [
        "# Installs"
      ]
    },
    {
      "metadata": {
        "id": "RkWQiRRvlgvz",
        "colab_type": "code",
        "colab": {
          "base_uri": "https://localhost:8080/",
          "height": 121
        },
        "outputId": "1ebdb739-35b9-4933-e3d5-a5b4e3831541"
      },
      "cell_type": "code",
      "source": [
        "!pip install numba\n",
        "!pip install numpy_indexed"
      ],
      "execution_count": 1,
      "outputs": [
        {
          "output_type": "stream",
          "text": [
            "Requirement already satisfied: numba in /usr/local/lib/python3.6/dist-packages (0.39.0)\r\n",
            "Requirement already satisfied: numpy in /usr/local/lib/python3.6/dist-packages (from numba) (1.14.5)\r\n",
            "Requirement already satisfied: llvmlite>=0.24.0dev0 in /usr/local/lib/python3.6/dist-packages (from numba) (0.24.0)\n",
            "Requirement already satisfied: numpy_indexed in /usr/local/lib/python3.6/dist-packages (0.3.5)\n",
            "Requirement already satisfied: future in /usr/local/lib/python3.6/dist-packages (from numpy_indexed) (0.16.0)\n",
            "Requirement already satisfied: numpy in /usr/local/lib/python3.6/dist-packages (from numpy_indexed) (1.14.5)\n"
          ],
          "name": "stdout"
        }
      ]
    },
    {
      "metadata": {
        "id": "4_WjpM4Ely5D",
        "colab_type": "text"
      },
      "cell_type": "markdown",
      "source": [
        "# Imports"
      ]
    },
    {
      "metadata": {
        "id": "x2nneuOAl4GC",
        "colab_type": "code",
        "colab": {}
      },
      "cell_type": "code",
      "source": [
        "import numpy as np\n",
        "import pandas as pd\n",
        "import numpy_indexed as npi\n",
        "from numba import njit\n",
        "from timeit import timeit\n",
        "from scipy import sparse"
      ],
      "execution_count": 0,
      "outputs": []
    },
    {
      "metadata": {
        "id": "S5vdssokmAhq",
        "colab_type": "text"
      },
      "cell_type": "markdown",
      "source": [
        "# Problem\n",
        "https://stackoverflow.com/q/52006947/2336654"
      ]
    },
    {
      "metadata": {
        "id": "KJYSs9zTmZnk",
        "colab_type": "text"
      },
      "cell_type": "markdown",
      "source": [
        "## Toy Data"
      ]
    },
    {
      "metadata": {
        "id": "KNC5R68YmIkz",
        "colab_type": "code",
        "colab": {}
      },
      "cell_type": "code",
      "source": [
        "bins = np.array([0, 0, 1, 1, 2, 2, 2, 0, 1, 2])\n",
        "vals = np.array([8, 7, 3, 4, 1, 2, 6, 5, 0, 9])"
      ],
      "execution_count": 0,
      "outputs": []
    },
    {
      "metadata": {
        "id": "hnT9Rwo5mcil",
        "colab_type": "text"
      },
      "cell_type": "markdown",
      "source": [
        "## Expected Output"
      ]
    },
    {
      "metadata": {
        "id": "FSYqxLbpmYvD",
        "colab_type": "code",
        "colab": {
          "base_uri": "https://localhost:8080/",
          "height": 35
        },
        "outputId": "f775a4a1-e2f1-4aca-863f-e8239ed2db8d"
      },
      "cell_type": "code",
      "source": [
        "def binargmax(bins, vals):\n",
        "  k = bins.max() + 1\n",
        "  out = -np.ones(k, np.int64)\n",
        "  trk = np.empty(k, vals.dtype)\n",
        "  trk.fill(np.nanmin(vals) - 1)\n",
        "\n",
        "  for i in range(len(bins)):\n",
        "    v = vals[i]\n",
        "    b = bins[i]\n",
        "    if v > trk[b]:\n",
        "      trk[b] = v\n",
        "      out[b] = i\n",
        "\n",
        "  return out\n",
        "\n",
        "binargmax(bins, vals)"
      ],
      "execution_count": 4,
      "outputs": [
        {
          "output_type": "execute_result",
          "data": {
            "text/plain": [
              "array([0, 3, 9])"
            ]
          },
          "metadata": {
            "tags": []
          },
          "execution_count": 4
        }
      ]
    },
    {
      "metadata": {
        "id": "BZqOSXEummqi",
        "colab_type": "text"
      },
      "cell_type": "markdown",
      "source": [
        "# Proposed Functions"
      ]
    },
    {
      "metadata": {
        "id": "mhyz_pmlmsJz",
        "colab_type": "code",
        "colab": {}
      },
      "cell_type": "code",
      "source": [
        "def bench(bins, vals):\n",
        "  k = bins.max() + 1\n",
        "  out = -np.ones(k, np.int64)\n",
        "  trk = np.empty(k, vals.dtype)\n",
        "  trk.fill(np.nanmin(vals) - 1)\n",
        "\n",
        "  for i in range(len(bins)):\n",
        "    v = vals[i]\n",
        "    b = bins[i]\n",
        "    if v > trk[b]:\n",
        "      trk[b] = v\n",
        "      out[b] = i\n",
        "\n",
        "  return out\n",
        "\n",
        "def div_1(bins, vals):\n",
        "  mx = vals.max()+1\n",
        "  sidx = bins.argsort()\n",
        "  sb = bins[sidx]\n",
        "  sm = np.r_[sb[:-1] != sb[1:],True]\n",
        "  argmax_out = np.argsort(bins*mx + vals)[sm]\n",
        "  max_out = vals[argmax_out]\n",
        "  return argmax_out\n",
        "  \n",
        "def div_2(bins, vals):\n",
        "  last_idx = np.bincount(bins).cumsum()-1\n",
        "  scaled_vals = bins*(vals.max()+1) + vals\n",
        "  argmax_out = np.argsort(scaled_vals)[last_idx]\n",
        "  max_out = vals[argmax_out]\n",
        "  return argmax_out\n",
        "\n",
        "def u5454(bins, vals):\n",
        "  b = bins == np.arange(bins.max() + 1)[:, None]\n",
        "  return np.argmax(vals * b, axis=-1)\n",
        "\n",
        "def u2699(bins, vals):\n",
        "  res = []\n",
        "  for v in np.unique(bins):\n",
        "    idx = bins == v\n",
        "    r = np.where(idx)[0][np.argmax(vals[idx])]\n",
        "    res.append(r)\n",
        "  return np.array(res)\n",
        "\n",
        "def chris_1(bins, vals):\n",
        "  return npi.group_by(bins).argmax(vals)[1]\n",
        "\n",
        "def chris_2(bins, vals):\n",
        "  return sparse.csr_matrix(\n",
        "      (vals, bins, np.arange(vals.shape[0]+1)),\n",
        "      (vals.shape[0], bins.max() + 1)\n",
        "  ).argmax(0)\n",
        "\n",
        "def sacul_1(bins,vals):\n",
        "  s = np.lexsort((vals,bins))\n",
        "  s2 = np.sort(bins)\n",
        "  msk = np.roll(s2,-1) != s2\n",
        "  return s[msk]\n",
        "\n",
        "def dsm_1(bins, vals):\n",
        "  max_vals = np.full(bins.max()+1, -np.inf)\n",
        "  np.maximum.at(max_vals, bins, vals)\n",
        "  expanded = max_vals[bins]\n",
        "  max_idx = np.full_like(max_vals, np.inf)\n",
        "  np.minimum.at(max_idx, bins, np.where(vals == expanded, np.arange(len(bins)), np.inf))\n",
        "  return max_idx\n",
        "\n",
        "@njit\n",
        "def pir_1(bins, vals):\n",
        "  k = bins.max() + 1\n",
        "  out = -np.ones(k, np.int64)\n",
        "  trk = np.empty(k, vals.dtype)\n",
        "  trk.fill(np.nanmin(vals) - 1)\n",
        "\n",
        "  for i in range(len(bins)):\n",
        "    v = vals[i]\n",
        "    b = bins[i]\n",
        "    if v > trk[b]:\n",
        "      trk[b] = v\n",
        "      out[b] = i\n",
        "\n",
        "  return out"
      ],
      "execution_count": 0,
      "outputs": []
    },
    {
      "metadata": {
        "id": "dve6xRlYoLo8",
        "colab_type": "text"
      },
      "cell_type": "markdown",
      "source": [
        "# Testing"
      ]
    },
    {
      "metadata": {
        "id": "8FEMmxaspRmE",
        "colab_type": "text"
      },
      "cell_type": "markdown",
      "source": [
        "## Setup"
      ]
    },
    {
      "metadata": {
        "id": "sGrWQOjspUSc",
        "colab_type": "code",
        "colab": {}
      },
      "cell_type": "code",
      "source": [
        "def gen_arrays(num_bins, len_array):\n",
        "  return np.random.randint(num_bins, size=len_array), np.random.rand(len_array)"
      ],
      "execution_count": 0,
      "outputs": []
    },
    {
      "metadata": {
        "id": "qM_gZefRrPAV",
        "colab_type": "code",
        "colab": {}
      },
      "cell_type": "code",
      "source": [
        "idx = [10, 30, 100, 300, 1000, 3000, 10000, 30000]\n",
        "fun = 'bench div_1 div_2 u5454 u2699 chris_1 chris_2 sacul_1 dsm_1 pir_1'.split()\n",
        "\n",
        "res = pd.DataFrame(index=idx, columns=fun, dtype=np.float64)"
      ],
      "execution_count": 0,
      "outputs": []
    },
    {
      "metadata": {
        "id": "hnbD3cadEq09",
        "colab_type": "code",
        "colab": {
          "base_uri": "https://localhost:8080/",
          "height": 35
        },
        "outputId": "4590a0a0-b7e6-4437-b346-f4418a10481c"
      },
      "cell_type": "code",
      "source": [
        "pir_1(*np.zeros((2, 2), np.int64))"
      ],
      "execution_count": 16,
      "outputs": [
        {
          "output_type": "execute_result",
          "data": {
            "text/plain": [
              "array([0])"
            ]
          },
          "metadata": {
            "tags": []
          },
          "execution_count": 16
        }
      ]
    },
    {
      "metadata": {
        "id": "_7Bl-KBXsmJf",
        "colab_type": "text"
      },
      "cell_type": "markdown",
      "source": [
        "## Number of Bins approximately one third length of array"
      ]
    },
    {
      "metadata": {
        "id": "Q-vXBBjls49O",
        "colab_type": "code",
        "colab": {}
      },
      "cell_type": "code",
      "source": [
        "for i in idx:\n",
        "  bins, vals = gen_arrays(i // 3, i)\n",
        "  for f in fun:\n",
        "    stmt = f\"{f}(bins, vals)\"\n",
        "    setp = f\"from __main__ import {f}, bins, vals\"\n",
        "    res.at[i, f] = timeit(stmt, setp, number=30)"
      ],
      "execution_count": 0,
      "outputs": []
    },
    {
      "metadata": {
        "id": "kJcPyouPtu73",
        "colab_type": "code",
        "colab": {
          "base_uri": "https://localhost:8080/",
          "height": 294
        },
        "outputId": "fdbba4cd-f506-46c3-958d-ace4908b6a07"
      },
      "cell_type": "code",
      "source": [
        "res.div(res.min(1), 0)"
      ],
      "execution_count": 18,
      "outputs": [
        {
          "output_type": "execute_result",
          "data": {
            "text/html": [
              "<div>\n",
              "<style scoped>\n",
              "    .dataframe tbody tr th:only-of-type {\n",
              "        vertical-align: middle;\n",
              "    }\n",
              "\n",
              "    .dataframe tbody tr th {\n",
              "        vertical-align: top;\n",
              "    }\n",
              "\n",
              "    .dataframe thead th {\n",
              "        text-align: right;\n",
              "    }\n",
              "</style>\n",
              "<table border=\"1\" class=\"dataframe\">\n",
              "  <thead>\n",
              "    <tr style=\"text-align: right;\">\n",
              "      <th></th>\n",
              "      <th>bench</th>\n",
              "      <th>div_1</th>\n",
              "      <th>div_2</th>\n",
              "      <th>u5454</th>\n",
              "      <th>u2699</th>\n",
              "      <th>chris_1</th>\n",
              "      <th>chris_2</th>\n",
              "      <th>sacul_1</th>\n",
              "      <th>dsm_1</th>\n",
              "      <th>pir_1</th>\n",
              "    </tr>\n",
              "  </thead>\n",
              "  <tbody>\n",
              "    <tr>\n",
              "      <th>10</th>\n",
              "      <td>31.199620</td>\n",
              "      <td>27.651588</td>\n",
              "      <td>5.859482</td>\n",
              "      <td>5.327188</td>\n",
              "      <td>14.080507</td>\n",
              "      <td>33.925533</td>\n",
              "      <td>106.570832</td>\n",
              "      <td>10.138210</td>\n",
              "      <td>9.147583</td>\n",
              "      <td>1.0</td>\n",
              "    </tr>\n",
              "    <tr>\n",
              "      <th>30</th>\n",
              "      <td>22.606892</td>\n",
              "      <td>18.906304</td>\n",
              "      <td>8.586430</td>\n",
              "      <td>8.030337</td>\n",
              "      <td>39.174464</td>\n",
              "      <td>46.853330</td>\n",
              "      <td>163.095049</td>\n",
              "      <td>15.826915</td>\n",
              "      <td>16.361002</td>\n",
              "      <td>1.0</td>\n",
              "    </tr>\n",
              "    <tr>\n",
              "      <th>100</th>\n",
              "      <td>27.829010</td>\n",
              "      <td>26.701214</td>\n",
              "      <td>6.332831</td>\n",
              "      <td>10.972710</td>\n",
              "      <td>69.281641</td>\n",
              "      <td>35.549430</td>\n",
              "      <td>163.739143</td>\n",
              "      <td>12.013765</td>\n",
              "      <td>15.010311</td>\n",
              "      <td>1.0</td>\n",
              "    </tr>\n",
              "    <tr>\n",
              "      <th>300</th>\n",
              "      <td>55.726380</td>\n",
              "      <td>15.825228</td>\n",
              "      <td>7.011312</td>\n",
              "      <td>52.889470</td>\n",
              "      <td>189.837700</td>\n",
              "      <td>40.597920</td>\n",
              "      <td>303.392684</td>\n",
              "      <td>18.124235</td>\n",
              "      <td>27.548747</td>\n",
              "      <td>1.0</td>\n",
              "    </tr>\n",
              "    <tr>\n",
              "      <th>1000</th>\n",
              "      <td>63.124051</td>\n",
              "      <td>19.328323</td>\n",
              "      <td>7.509694</td>\n",
              "      <td>945.693273</td>\n",
              "      <td>261.477946</td>\n",
              "      <td>34.237474</td>\n",
              "      <td>298.928391</td>\n",
              "      <td>24.594946</td>\n",
              "      <td>26.795757</td>\n",
              "      <td>1.0</td>\n",
              "    </tr>\n",
              "    <tr>\n",
              "      <th>3000</th>\n",
              "      <td>59.090719</td>\n",
              "      <td>19.104626</td>\n",
              "      <td>9.366736</td>\n",
              "      <td>1055.580896</td>\n",
              "      <td>305.680973</td>\n",
              "      <td>31.578791</td>\n",
              "      <td>264.975355</td>\n",
              "      <td>25.074740</td>\n",
              "      <td>24.228337</td>\n",
              "      <td>1.0</td>\n",
              "    </tr>\n",
              "    <tr>\n",
              "      <th>10000</th>\n",
              "      <td>44.812571</td>\n",
              "      <td>15.895251</td>\n",
              "      <td>8.258888</td>\n",
              "      <td>1737.859212</td>\n",
              "      <td>387.038158</td>\n",
              "      <td>25.712832</td>\n",
              "      <td>197.798263</td>\n",
              "      <td>22.374145</td>\n",
              "      <td>17.877367</td>\n",
              "      <td>1.0</td>\n",
              "    </tr>\n",
              "    <tr>\n",
              "      <th>30000</th>\n",
              "      <td>42.622525</td>\n",
              "      <td>16.509877</td>\n",
              "      <td>8.576783</td>\n",
              "      <td>4935.548603</td>\n",
              "      <td>750.366973</td>\n",
              "      <td>27.444819</td>\n",
              "      <td>182.940240</td>\n",
              "      <td>24.485947</td>\n",
              "      <td>17.070225</td>\n",
              "      <td>1.0</td>\n",
              "    </tr>\n",
              "  </tbody>\n",
              "</table>\n",
              "</div>"
            ],
            "text/plain": [
              "           bench      div_1     div_2        u5454       u2699    chris_1  \\\n",
              "10     31.199620  27.651588  5.859482     5.327188   14.080507  33.925533   \n",
              "30     22.606892  18.906304  8.586430     8.030337   39.174464  46.853330   \n",
              "100    27.829010  26.701214  6.332831    10.972710   69.281641  35.549430   \n",
              "300    55.726380  15.825228  7.011312    52.889470  189.837700  40.597920   \n",
              "1000   63.124051  19.328323  7.509694   945.693273  261.477946  34.237474   \n",
              "3000   59.090719  19.104626  9.366736  1055.580896  305.680973  31.578791   \n",
              "10000  44.812571  15.895251  8.258888  1737.859212  387.038158  25.712832   \n",
              "30000  42.622525  16.509877  8.576783  4935.548603  750.366973  27.444819   \n",
              "\n",
              "          chris_2    sacul_1      dsm_1  pir_1  \n",
              "10     106.570832  10.138210   9.147583    1.0  \n",
              "30     163.095049  15.826915  16.361002    1.0  \n",
              "100    163.739143  12.013765  15.010311    1.0  \n",
              "300    303.392684  18.124235  27.548747    1.0  \n",
              "1000   298.928391  24.594946  26.795757    1.0  \n",
              "3000   264.975355  25.074740  24.228337    1.0  \n",
              "10000  197.798263  22.374145  17.877367    1.0  \n",
              "30000  182.940240  24.485947  17.070225    1.0  "
            ]
          },
          "metadata": {
            "tags": []
          },
          "execution_count": 18
        }
      ]
    },
    {
      "metadata": {
        "id": "SFPFHzHMt-WR",
        "colab_type": "code",
        "colab": {
          "base_uri": "https://localhost:8080/",
          "height": 510
        },
        "outputId": "70248262-d31f-44e6-f054-500e27a8a00f"
      },
      "cell_type": "code",
      "source": [
        "res.plot(loglog=True, colormap='tab20', lw=4, figsize=(12, 8))"
      ],
      "execution_count": 19,
      "outputs": [
        {
          "output_type": "execute_result",
          "data": {
            "text/plain": [
              "<matplotlib.axes._subplots.AxesSubplot at 0x7f9caa9c3c88>"
            ]
          },
          "metadata": {
            "tags": []
          },
          "execution_count": 19
        },
        {
          "output_type": "display_data",
          "data": {
            "image/png": "[encoded data removed]",
            "text/plain": [
              "<matplotlib.figure.Figure at 0x7f9caaa6a630>"
            ]
          },
          "metadata": {
            "tags": []
          }
        }
      ]
    },
    {
      "metadata": {
        "id": "95pcdKwDuGDo",
        "colab_type": "text"
      },
      "cell_type": "markdown",
      "source": [
        "# Validation"
      ]
    },
    {
      "metadata": {
        "id": "dfawQPL27rSW",
        "colab_type": "text"
      },
      "cell_type": "markdown",
      "source": [
        "## Normal expected input"
      ]
    },
    {
      "metadata": {
        "id": "z6WTkaEYvHlX",
        "colab_type": "code",
        "colab": {
          "base_uri": "https://localhost:8080/",
          "height": 191
        },
        "outputId": "470ec420-7996-463a-da80-160945387ece"
      },
      "cell_type": "code",
      "source": [
        "bins, vals = gen_arrays(100, 10000)\n",
        "truth = bench(bins, vals)\n",
        "\n",
        "for f in fun:\n",
        "  call = np.asarray(locals()[f](bins, vals)).ravel()\n",
        "  valid = (call == truth).all()\n",
        "  print(f\"{f:<8}: {'Valid' if valid else 'Invalid'}\")"
      ],
      "execution_count": 20,
      "outputs": [
        {
          "output_type": "stream",
          "text": [
            "bench   : Valid\n",
            "div_1   : Valid\n",
            "div_2   : Valid\n",
            "u5454   : Valid\n",
            "u2699   : Valid\n",
            "chris_1 : Valid\n",
            "chris_2 : Valid\n",
            "sacul_1 : Valid\n",
            "dsm_1   : Valid\n",
            "pir_1   : Valid\n"
          ],
          "name": "stdout"
        }
      ]
    },
    {
      "metadata": {
        "id": "uZK4tIQj7y6R",
        "colab_type": "text"
      },
      "cell_type": "markdown",
      "source": [
        "## One bin with repeated ties"
      ]
    },
    {
      "metadata": {
        "id": "KOSM4nKrv2bB",
        "colab_type": "code",
        "colab": {
          "base_uri": "https://localhost:8080/",
          "height": 191
        },
        "outputId": "572fe4d5-eae0-428c-bf26-c3f354d48ffe"
      },
      "cell_type": "code",
      "source": [
        "bins = vals = np.array([0, 0, 0])\n",
        "truth = bench(bins, vals)\n",
        "\n",
        "for f in fun:\n",
        "  call = np.asarray(locals()[f](bins, vals)).ravel()\n",
        "  valid = (call == truth).all()\n",
        "  print(f\"{f:<8}: {'Valid' if valid else 'Invalid'}\")"
      ],
      "execution_count": 21,
      "outputs": [
        {
          "output_type": "stream",
          "text": [
            "bench   : Valid\n",
            "div_1   : Invalid\n",
            "div_2   : Invalid\n",
            "u5454   : Valid\n",
            "u2699   : Valid\n",
            "chris_1 : Valid\n",
            "chris_2 : Valid\n",
            "sacul_1 : Valid\n",
            "dsm_1   : Valid\n",
            "pir_1   : Valid\n"
          ],
          "name": "stdout"
        }
      ]
    },
    {
      "metadata": {
        "id": "3abACRvA77tl",
        "colab_type": "text"
      },
      "cell_type": "markdown",
      "source": [
        "## Should produce more ties"
      ]
    },
    {
      "metadata": {
        "id": "_yAwhakp3Ayk",
        "colab_type": "code",
        "colab": {
          "base_uri": "https://localhost:8080/",
          "height": 191
        },
        "outputId": "5f3a979f-bf33-4dcd-e402-aab3eff2914b"
      },
      "cell_type": "code",
      "source": [
        "bins, vals = gen_arrays(5, 1000)\n",
        "vals = (vals * 100).astype(np.int64)\n",
        "truth = bench(bins, vals)\n",
        "\n",
        "for f in fun:\n",
        "  call = np.asarray(locals()[f](bins, vals)).ravel()\n",
        "  valid = (call == truth).all()\n",
        "  print(f\"{f:<8}: {'Valid' if valid else 'Invalid'}\")"
      ],
      "execution_count": 22,
      "outputs": [
        {
          "output_type": "stream",
          "text": [
            "bench   : Valid\n",
            "div_1   : Invalid\n",
            "div_2   : Invalid\n",
            "u5454   : Valid\n",
            "u2699   : Valid\n",
            "chris_1 : Valid\n",
            "chris_2 : Valid\n",
            "sacul_1 : Invalid\n",
            "dsm_1   : Valid\n",
            "pir_1   : Valid\n"
          ],
          "name": "stdout"
        }
      ]
    },
    {
      "metadata": {
        "id": "wTwCBLMGCZjI",
        "colab_type": "code",
        "colab": {}
      },
      "cell_type": "code",
      "source": [
        "\n",
        "\n"
      ],
      "execution_count": 0,
      "outputs": []
    },
    {
      "metadata": {
        "id": "MqIeXzZUFZ2L",
        "colab_type": "code",
        "colab": {}
      },
      "cell_type": "code",
      "source": [
        ""
      ],
      "execution_count": 0,
      "outputs": []
    }
  ]
}