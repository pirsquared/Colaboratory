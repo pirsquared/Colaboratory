{
  "nbformat": 4,
  "nbformat_minor": 0,
  "metadata": {
    "colab": {
      "name": "Obtain `min` and `idxmin` (or `max` and `idxmax`) at the same time (“simultaneously”)?.ipynb",
      "version": "0.3.2",
      "provenance": [],
      "collapsed_sections": [],
      "include_colab_link": true
    },
    "kernelspec": {
      "name": "python3",
      "display_name": "Python 3"
    }
  },
  "cells": [
    {
      "cell_type": "markdown",
      "metadata": {
        "id": "view-in-github",
        "colab_type": "text"
      },
      "source": [
        "[View in Colaboratory](https://colab.research.google.com/github/pirsquared/Colaboratory/blob/master/Obtain_%60min%60_and_%60idxmin%60_(or_%60max%60_and_%60idxmax%60)_at_the_same_time_(%E2%80%9Csimultaneously%E2%80%9D)%3F.ipynb)"
      ]
    },
    {
      "metadata": {
        "id": "4s7We_Vcco2S",
        "colab_type": "text"
      },
      "cell_type": "markdown",
      "source": [
        "# Imports"
      ]
    },
    {
      "metadata": {
        "id": "e74_WsX8kNgI",
        "colab_type": "code",
        "colab": {}
      },
      "cell_type": "code",
      "source": [
        "import pandas as pd\n",
        "import numpy as np\n",
        "from timeit import timeit\n",
        "\n",
        "pd.set_option(\n",
        "    'display.notebook_repr_html', False,\n",
        "    'expand_frame_repr', False,\n",
        "    'display.max_colwidth', 50\n",
        ")\n",
        "%matplotlib inline"
      ],
      "execution_count": 0,
      "outputs": []
    },
    {
      "metadata": {
        "id": "51jsfB07dqeG",
        "colab_type": "text"
      },
      "cell_type": "markdown",
      "source": [
        "# [Obtain `min` and `idxmin` (or `max` and `idxmax`) at the same time (“simultaneously”)?](https://stackoverflow.com/questions/51932428/obtain-min-and-idxmin-or-max-and-idxmax-at-the-same-time-simultaneou)"
      ]
    },
    {
      "metadata": {
        "id": "iKsMH2qErgqe",
        "colab_type": "code",
        "colab": {}
      },
      "cell_type": "code",
      "source": [
        "df = pd.DataFrame({\n",
        "    'id': [0,1,2,3,4], \n",
        "    'option_1': [10,     np.nan, np.nan, 400,    600], \n",
        "    'option_2': [np.nan, 20,     300,    np.nan, 700], \n",
        "    'option_3': [np.nan, 200,    30,     np.nan, 50],\n",
        "    'option_4': [110,    np.nan, np.nan, 40,     50], \n",
        "})"
      ],
      "execution_count": 0,
      "outputs": []
    },
    {
      "metadata": {
        "id": "uI2AXktVylxe",
        "colab_type": "text"
      },
      "cell_type": "markdown",
      "source": [
        "## Clever and Quick with `T` (transpose) and `agg`\n",
        "As pointed out in the comments, Pandas 0.24 effectively allows an `axis=1` parameter with a list of functions with the `agg` method.\n",
        "\n",
        "This answer is fashioned for brevity and not performance."
      ]
    },
    {
      "metadata": {
        "id": "G66ZhD5BygyS",
        "colab_type": "code",
        "colab": {
          "base_uri": "https://localhost:8080/",
          "height": 121
        },
        "outputId": "0eadd5db-f2c6-43fa-88cc-1f2ef6b91880"
      },
      "cell_type": "code",
      "source": [
        "df.set_index('id').T.agg(['min', 'idxmin']).T"
      ],
      "execution_count": 108,
      "outputs": [
        {
          "output_type": "execute_result",
          "data": {
            "text/plain": [
              "  min    idxmin\n",
              "0  10  option_1\n",
              "1  20  option_2\n",
              "2  30  option_3\n",
              "3  40  option_4\n",
              "4  50  option_3"
            ]
          },
          "metadata": {
            "tags": []
          },
          "execution_count": 108
        }
      ]
    },
    {
      "metadata": {
        "id": "4gK3MlgGzAvU",
        "colab_type": "text"
      },
      "cell_type": "markdown",
      "source": [
        "# Numpy v1"
      ]
    },
    {
      "metadata": {
        "id": "QCEUQSYuArUb",
        "colab_type": "code",
        "colab": {
          "base_uri": "https://localhost:8080/",
          "height": 139
        },
        "outputId": "bd017f2a-4895-4d3d-8314-a7b25b03c298"
      },
      "cell_type": "code",
      "source": [
        "d_ = df.set_index('id')\n",
        "v = d_.values\n",
        "pd.DataFrame(dict(\n",
        "    Min=np.nanmin(v, axis=1),\n",
        "    Idxmin=d_.columns[np.nanargmin(v, axis=1)]\n",
        "), d_.index)"
      ],
      "execution_count": 109,
      "outputs": [
        {
          "output_type": "execute_result",
          "data": {
            "text/plain": [
              "      Idxmin   Min\n",
              "id                \n",
              "0   option_1  10.0\n",
              "1   option_2  20.0\n",
              "2   option_3  30.0\n",
              "3   option_4  40.0\n",
              "4   option_3  50.0"
            ]
          },
          "metadata": {
            "tags": []
          },
          "execution_count": 109
        }
      ]
    },
    {
      "metadata": {
        "id": "EBfhMFrJA010",
        "colab_type": "text"
      },
      "cell_type": "markdown",
      "source": [
        "# Numpy v2"
      ]
    },
    {
      "metadata": {
        "id": "kaA_WWKwA4Hh",
        "colab_type": "code",
        "colab": {
          "base_uri": "https://localhost:8080/",
          "height": 121
        },
        "outputId": "4bde25b1-a9ab-4d2b-e157-0fb067eee3c4"
      },
      "cell_type": "code",
      "source": [
        "col_mask = df.columns.str.startswith('option')\n",
        "options = df.columns[col_mask]\n",
        "v = np.column_stack([*map(df.get, options)])\n",
        "pd.DataFrame(dict(\n",
        "    Min=np.nanmin(v, axis=1),\n",
        "    IdxMin=options[np.nanargmin(v, axis=1)]\n",
        "))"
      ],
      "execution_count": 110,
      "outputs": [
        {
          "output_type": "execute_result",
          "data": {
            "text/plain": [
              "     IdxMin   Min\n",
              "0  option_1  10.0\n",
              "1  option_2  20.0\n",
              "2  option_3  30.0\n",
              "3  option_4  40.0\n",
              "4  option_3  50.0"
            ]
          },
          "metadata": {
            "tags": []
          },
          "execution_count": 110
        }
      ]
    },
    {
      "metadata": {
        "id": "M0WnACG1A6mv",
        "colab_type": "text"
      },
      "cell_type": "markdown",
      "source": [
        "# Full simulation"
      ]
    },
    {
      "metadata": {
        "id": "R2I9Zfdny_PE",
        "colab_type": "code",
        "colab": {}
      },
      "cell_type": "code",
      "source": [
        "def pir_agg_1(df):\n",
        "  return df.set_index('id').T.agg(['min', 'idxmin']).T\n",
        "\n",
        "def pir_agg_2(df):\n",
        "  d_ = df.set_index('id')\n",
        "  v = d_.values\n",
        "  return pd.DataFrame(dict(\n",
        "      Min=np.nanmin(v, axis=1),\n",
        "      IdxMin=d_.columns[np.nanargmin(v, axis=1)]\n",
        "  ))\n",
        "\n",
        "def pir_agg_3(df):\n",
        "  col_mask = df.columns.str.startswith('option')\n",
        "  options = df.columns[col_mask]\n",
        "  v = np.column_stack([*map(df.get, options)])\n",
        "  return pd.DataFrame(dict(\n",
        "      Min=np.nanmin(v, axis=1),\n",
        "      IdxMin=options[np.nanargmin(v, axis=1)]\n",
        "  ))\n",
        "\n",
        "def wen_agg_1(df):\n",
        "  v = df.filter(like='option')\n",
        "  d = v.stack().sort_values().groupby(level=0).head(1).reset_index(level=1)\n",
        "  d.columns = ['IdxMin', 'Min']\n",
        "  return d\n",
        "\n",
        "def tot_agg_1(df):\n",
        "  \"\"\"I combined toto_tico's 2 filter calls into one\"\"\"\n",
        "  d = df.filter(like='option')\n",
        "  return df.assign(\n",
        "      IdxMin=d.idxmin(1),\n",
        "      Min=d.min(1)\n",
        "  )\n",
        "\n",
        "def tot_agg_2(df):\n",
        "  d = df.filter(like='option')\n",
        "  idxmin = d.idxmin(1)\n",
        "  return df.assign(\n",
        "      IdxMin=idxmin,\n",
        "      Min=d.lookup(d.index, idxmin)\n",
        "  )\n",
        "\n",
        "def sim_df(n, m):\n",
        "  return pd.DataFrame(\n",
        "      np.random.randint(m, size=(n, m))\n",
        "  ).rename_axis('id').add_prefix('option').reset_index()"
      ],
      "execution_count": 0,
      "outputs": []
    },
    {
      "metadata": {
        "id": "4vCQ_1Mn5IjM",
        "colab_type": "code",
        "colab": {}
      },
      "cell_type": "code",
      "source": [
        "fs = 'pir_agg_1 pir_agg_2 pir_agg_3 wen_agg_1 tot_agg_1 tot_agg_2'.split()\n",
        "ix = [10, 30, 100, 300, 1000, 3000, 10000]\n",
        "\n",
        "res_small_col = pd.DataFrame(index=ix, columns=fs, dtype=float)\n",
        "res_large_col = pd.DataFrame(index=ix, columns=fs, dtype=float)\n",
        "\n",
        "for i in ix:\n",
        "  df = sim_df(i, 10)\n",
        "  for j in fs:\n",
        "    stmt = f\"{j}(df)\"\n",
        "    setp = f\"from __main__ import {j}, df\"\n",
        "    res_small_col.at[i, j] = timeit(stmt, setp, number=10)\n",
        "    \n",
        "for i in ix:\n",
        "  df = sim_df(i, 100)\n",
        "  for j in fs:\n",
        "    stmt = f\"{j}(df)\"\n",
        "    setp = f\"from __main__ import {j}, df\"\n",
        "    res_large_col.at[i, j] = timeit(stmt, setp, number=10)"
      ],
      "execution_count": 0,
      "outputs": []
    },
    {
      "metadata": {
        "id": "8eHNd77N5JzT",
        "colab_type": "code",
        "colab": {
          "base_uri": "https://localhost:8080/",
          "height": 156
        },
        "outputId": "d9cf2e53-d180-4c72-bd90-9351858cb347"
      },
      "cell_type": "code",
      "source": [
        "res_small_col.div(res_small_col.min(1), 0)"
      ],
      "execution_count": 102,
      "outputs": [
        {
          "output_type": "execute_result",
          "data": {
            "text/plain": [
              "         pir_agg_1  pir_agg_2  pir_agg_3  wen_agg_1  tot_agg_1  tot_agg_2\n",
              "10       12.465358   1.272584        1.0   5.978435   2.168994   2.164858\n",
              "30       26.538924   1.305721        1.0   5.331755   2.121342   2.193279\n",
              "100      80.304708   1.277684        1.0   7.221127   2.215901   2.365835\n",
              "300     230.009000   1.338177        1.0   5.869560   2.505447   2.576457\n",
              "1000    661.432965   1.249847        1.0   8.931438   2.940030   3.002684\n",
              "3000   1757.339186   1.349861        1.0  12.541915   4.656864   4.961188\n",
              "10000  3342.701758   1.724972        1.0  15.287138   6.589233   6.782102"
            ]
          },
          "metadata": {
            "tags": []
          },
          "execution_count": 102
        }
      ]
    },
    {
      "metadata": {
        "id": "kPVQW6B--2Bd",
        "colab_type": "code",
        "colab": {
          "base_uri": "https://localhost:8080/",
          "height": 287
        },
        "outputId": "1ff362c0-94d0-47e6-d846-2b2cddedf014"
      },
      "cell_type": "code",
      "source": [
        "res_small_col.plot(loglog=True)"
      ],
      "execution_count": 104,
      "outputs": [
        {
          "output_type": "execute_result",
          "data": {
            "text/plain": [
              "<matplotlib.axes._subplots.AxesSubplot at 0x7f3f0037b438>"
            ]
          },
          "metadata": {
            "tags": []
          },
          "execution_count": 104
        },
        {
          "output_type": "display_data",
          "data": {
            "image/png": "[encoded data removed]",
            "text/plain": [
              "<matplotlib.figure.Figure at 0x7f3f00392470>"
            ]
          },
          "metadata": {
            "tags": []
          }
        }
      ]
    },
    {
      "metadata": {
        "id": "dilpr7e49Leb",
        "colab_type": "code",
        "colab": {
          "base_uri": "https://localhost:8080/",
          "height": 156
        },
        "outputId": "c9d5cb4e-803f-4646-cf0f-944e521fbb27"
      },
      "cell_type": "code",
      "source": [
        "res_large_col.div(res_large_col.min(1), 0)"
      ],
      "execution_count": 103,
      "outputs": [
        {
          "output_type": "execute_result",
          "data": {
            "text/plain": [
              "        pir_agg_1  pir_agg_2  pir_agg_3  wen_agg_1  tot_agg_1  tot_agg_2\n",
              "10       8.008895   1.000000   1.977989   5.612195   1.727308   1.769866\n",
              "30      18.798077   1.000000   1.855291   4.350982   1.618649   1.699162\n",
              "100     56.725786   1.000000   1.877474   6.749006   1.780816   1.850991\n",
              "300    132.306699   1.000000   1.535976   7.779359   1.707254   1.721859\n",
              "1000   253.771648   1.000000   1.232238  12.224478   1.855549   1.639081\n",
              "3000   346.999495   2.246106   1.000000  21.114310   1.893144   1.626650\n",
              "10000  431.135940   2.095874   1.000000  32.588886   2.203617   1.793076"
            ]
          },
          "metadata": {
            "tags": []
          },
          "execution_count": 103
        }
      ]
    },
    {
      "metadata": {
        "id": "TfnmZrJO-t1z",
        "colab_type": "code",
        "colab": {
          "base_uri": "https://localhost:8080/",
          "height": 287
        },
        "outputId": "5b21a905-b362-4508-ef54-7da712de86f1"
      },
      "cell_type": "code",
      "source": [
        "res_large_col.plot(loglog=True)"
      ],
      "execution_count": 105,
      "outputs": [
        {
          "output_type": "execute_result",
          "data": {
            "text/plain": [
              "<matplotlib.axes._subplots.AxesSubplot at 0x7f3efe8bc908>"
            ]
          },
          "metadata": {
            "tags": []
          },
          "execution_count": 105
        },
        {
          "output_type": "display_data",
          "data": {
            "image/png": "[encoded data removed]",
            "text/plain": [
              "<matplotlib.figure.Figure at 0x7f3efe360c88>"
            ]
          },
          "metadata": {
            "tags": []
          }
        }
      ]
    },
    {
      "metadata": {
        "id": "x0ACCWxU_D-7",
        "colab_type": "code",
        "colab": {}
      },
      "cell_type": "code",
      "source": [
        ""
      ],
      "execution_count": 0,
      "outputs": []
    }
  ]
}