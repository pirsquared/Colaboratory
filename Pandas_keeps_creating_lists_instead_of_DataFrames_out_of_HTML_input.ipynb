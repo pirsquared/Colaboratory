{
  "nbformat": 4,
  "nbformat_minor": 0,
  "metadata": {
    "colab": {
      "name": "Pandas keeps creating lists instead of DataFrames out of HTML input.ipynb",
      "version": "0.3.2",
      "provenance": [],
      "collapsed_sections": [],
      "include_colab_link": true
    },
    "kernelspec": {
      "name": "python3",
      "display_name": "Python 3"
    }
  },
  "cells": [
    {
      "cell_type": "markdown",
      "metadata": {
        "id": "view-in-github",
        "colab_type": "text"
      },
      "source": [
        "[View in Colaboratory](https://colab.research.google.com/github/pirsquared/Colaboratory/blob/master/Pandas_keeps_creating_lists_instead_of_DataFrames_out_of_HTML_input.ipynb)"
      ]
    },
    {
      "metadata": {
        "id": "Jx6-73sdfc3u",
        "colab_type": "text"
      },
      "cell_type": "markdown",
      "source": [
        "# Prep Runtime"
      ]
    },
    {
      "metadata": {
        "id": "ImlSX5hwnjRB",
        "colab_type": "code",
        "colab": {}
      },
      "cell_type": "code",
      "source": [
        "!pip install lxml\n",
        "!pip install html5lib\n",
        "!pip install BeautifulSoup4"
      ],
      "execution_count": 0,
      "outputs": []
    },
    {
      "metadata": {
        "id": "4s7We_Vcco2S",
        "colab_type": "text"
      },
      "cell_type": "markdown",
      "source": [
        "# Imports"
      ]
    },
    {
      "metadata": {
        "id": "aBV2yo4yl9Og",
        "colab_type": "code",
        "colab": {}
      },
      "cell_type": "code",
      "source": [
        "import pandas as pd\n",
        "\n",
        "pd.set_option(\n",
        "    'display.notebook_repr_html', False,\n",
        "    'expand_frame_repr', False,\n",
        "    'display.max_colwidth', 50\n",
        ")\n",
        "%matplotlib inline"
      ],
      "execution_count": 0,
      "outputs": []
    },
    {
      "metadata": {
        "id": "51jsfB07dqeG",
        "colab_type": "text"
      },
      "cell_type": "markdown",
      "source": [
        "# [Pandas keeps creating lists instead of DataFrames out of HTML input](https://stackoverflow.com/q/51913514/2336654)\n",
        "\n",
        "`pandas.read_html` returns a list of all tables parsed."
      ]
    },
    {
      "metadata": {
        "id": "wAeiZJe_cYm_",
        "colab_type": "code",
        "colab": {}
      },
      "cell_type": "code",
      "source": [
        "html = \"\"\"\\\n",
        "<table>\n",
        "  <thead><tr><th>A</th><th>B</th></tr></thead>\n",
        "  <tbody>\n",
        "    <tr><td>1</td><td>2</td></tr>\n",
        "    <tr><td>1</td><td>2</td></tr>\n",
        "    <tr><td>1</td><td>2</td></tr>\n",
        "  </tbody>\n",
        "</table>\"\"\""
      ],
      "execution_count": 0,
      "outputs": []
    },
    {
      "metadata": {
        "id": "n6cOxrFnmmi1",
        "colab_type": "code",
        "colab": {
          "base_uri": "https://localhost:8080/",
          "height": 85
        },
        "outputId": "b395d92b-fd25-4a59-eb21-7eb93b9a89b7"
      },
      "cell_type": "code",
      "source": [
        "tables = pd.read_html(html)\n",
        "tables[0]"
      ],
      "execution_count": 9,
      "outputs": [
        {
          "output_type": "execute_result",
          "data": {
            "text/plain": [
              "   A  B\n",
              "0  1  2\n",
              "1  1  2\n",
              "2  1  2"
            ]
          },
          "metadata": {
            "tags": []
          },
          "execution_count": 9
        }
      ]
    },
    {
      "metadata": {
        "id": "elON2TN-oedd",
        "colab_type": "text"
      },
      "cell_type": "markdown",
      "source": [
        "However, if the html has more than one table, each table gets parsed as a different element of the list."
      ]
    },
    {
      "metadata": {
        "id": "3zNX2JwEongk",
        "colab_type": "code",
        "colab": {
          "base_uri": "https://localhost:8080/",
          "height": 255
        },
        "outputId": "d6b105f6-b353-4585-d31f-d705400480a1"
      },
      "cell_type": "code",
      "source": [
        "tables = pd.read_html(html * 3)\n",
        "print(*tables, sep='\\n\\n')"
      ],
      "execution_count": 10,
      "outputs": [
        {
          "output_type": "stream",
          "text": [
            "   A  B\n",
            "0  1  2\n",
            "1  1  2\n",
            "2  1  2\n",
            "\n",
            "   A  B\n",
            "0  1  2\n",
            "1  1  2\n",
            "2  1  2\n",
            "\n",
            "   A  B\n",
            "0  1  2\n",
            "1  1  2\n",
            "2  1  2\n"
          ],
          "name": "stdout"
        }
      ]
    },
    {
      "metadata": {
        "id": "I80p0DcDouHf",
        "colab_type": "code",
        "colab": {}
      },
      "cell_type": "code",
      "source": [
        ""
      ],
      "execution_count": 0,
      "outputs": []
    }
  ]
}