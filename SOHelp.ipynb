{
  "nbformat": 4,
  "nbformat_minor": 0,
  "metadata": {
    "colab": {
      "name": "SOHelp.ipynb",
      "version": "0.3.2",
      "provenance": [],
      "collapsed_sections": [],
      "include_colab_link": true
    },
    "kernelspec": {
      "name": "python3",
      "display_name": "Python 3"
    }
  },
  "cells": [
    {
      "cell_type": "markdown",
      "metadata": {
        "id": "view-in-github",
        "colab_type": "text"
      },
      "source": [
        "[View in Colaboratory](https://colab.research.google.com/github/pirsquared/Colaboratory/blob/master/SOHelp.ipynb)"
      ]
    },
    {
      "metadata": {
        "id": "Jx6-73sdfc3u",
        "colab_type": "text"
      },
      "cell_type": "markdown",
      "source": [
        "# Prep Runtime\n",
        "* Install Numba\n",
        "* Install cytoolz"
      ]
    },
    {
      "metadata": {
        "id": "lBYR07iBfC11",
        "colab_type": "code",
        "colab": {
          "base_uri": "https://localhost:8080/",
          "height": 102
        },
        "cellView": "code",
        "outputId": "98f1eb96-faa2-4ac8-c1fe-6bc571c444f5"
      },
      "cell_type": "code",
      "source": [
        "!pip install numba\n",
        "!pip install cytoolz"
      ],
      "execution_count": 7,
      "outputs": [
        {
          "output_type": "stream",
          "text": [
            "Requirement already satisfied: numba in /usr/local/lib/python3.6/dist-packages (0.39.0)\r\n",
            "Requirement already satisfied: llvmlite>=0.24.0dev0 in /usr/local/lib/python3.6/dist-packages (from numba) (0.24.0)\r\n",
            "Requirement already satisfied: numpy in /usr/local/lib/python3.6/dist-packages (from numba) (1.14.5)\n",
            "Requirement already satisfied: cytoolz in /usr/local/lib/python3.6/dist-packages (0.9.0.1)\n",
            "Requirement already satisfied: toolz>=0.8.0 in /usr/local/lib/python3.6/dist-packages (from cytoolz) (0.9.0)\n"
          ],
          "name": "stdout"
        }
      ]
    },
    {
      "metadata": {
        "id": "4s7We_Vcco2S",
        "colab_type": "text"
      },
      "cell_type": "markdown",
      "source": [
        "# Imports\n",
        "Many things I use for answering questions"
      ]
    },
    {
      "metadata": {
        "id": "e74_WsX8kNgI",
        "colab_type": "code",
        "colab": {}
      },
      "cell_type": "code",
      "source": [
        "import pandas as pd\n",
        "import numpy as np\n",
        "import matplotlib.pyplot as plt\n",
        "\n",
        "from string import ascii_uppercase as ascup\n",
        "from string import ascii_lowercase as asclo\n",
        "from string import ascii_letters as asclt\n",
        "from string import digits as ascdi\n",
        "from timeit import timeit\n",
        "from collections import defaultdict, Counter, deque, OrderedDict, namedtuple\n",
        "from numba import njit\n",
        "\n",
        "import itertools as it\n",
        "import cytoolz as ct\n",
        "from itertools import chain, combinations, permutations, count, takewhile\n",
        "import functools\n",
        "from functools import partial, reduce\n",
        "import inspect\n",
        "import re\n",
        "import datetime as dt\n",
        "import json\n",
        "import ast\n",
        "import math\n",
        "import random\n",
        "import scipy\n",
        "\n",
        "pd.set_option(\n",
        "    'display.notebook_repr_html', False,\n",
        "    'expand_frame_repr', False,\n",
        "    'display.max_colwidth', 50\n",
        ")\n",
        "%matplotlib inline"
      ],
      "execution_count": 0,
      "outputs": []
    },
    {
      "metadata": {
        "id": "YsQLLFRKcxkh",
        "colab_type": "text"
      },
      "cell_type": "markdown",
      "source": [
        "# Parsing functions\n",
        "* `rpd` is a generic parser taking a string and passing it through `StringIO`\n",
        "* `idx0` is a `partial` of `rpd` that insists that the first input column is considered the index\n",
        "* `sep2` assumes that the separator should be two or more white space characters\n",
        "* `dte0` assumes the first column is a date and is the index\n",
        "* `dte_` assumes the first column is a date"
      ]
    },
    {
      "metadata": {
        "id": "v3yu9z7ac6dL",
        "colab_type": "text"
      },
      "cell_type": "markdown",
      "source": [
        "## Example\n",
        "\n",
        "```python\n",
        "idx0(\"\"\"\\\n",
        "a b\n",
        "1 2\n",
        "\"\"\")\n",
        "```"
      ]
    },
    {
      "metadata": {
        "id": "881_wCNHmZcJ",
        "colab_type": "code",
        "colab": {}
      },
      "cell_type": "code",
      "source": [
        "io_ = pd.io.common.StringIO\n",
        "\n",
        "def rpd(text='', sep='\\s{1,}', *args, **kwargs):\n",
        "  kw = dict(engine='python', sep=sep)\n",
        "  return pd.read_csv(io_(text), *args, **kw, **kwargs)\n",
        "\n",
        "idx0 = partial(rpd, index_col=0)\n",
        "sep2 = partial(rpd, sep='\\s{2,}')\n",
        "dte0 = partial(rpd, sep='\\s{2,}', index_col=0, parse_dates=[0])\n",
        "dte_ = partial(rpd, sep='\\s{2,}', parse_dates=[0])"
      ],
      "execution_count": 0,
      "outputs": []
    },
    {
      "metadata": {
        "id": "wAeiZJe_cYm_",
        "colab_type": "text"
      },
      "cell_type": "markdown",
      "source": [
        "## Parse a multi-index index with `pd.read_fwf`"
      ]
    },
    {
      "metadata": {
        "id": "Ns75jvUA6XLH",
        "colab_type": "code",
        "colab": {}
      },
      "cell_type": "code",
      "source": [
        "def lvl_rename(x):\n",
        "  if not x.startswith('Unnamed: '):\n",
        "    return x\n",
        "  \n",
        "def pmux(text, nlvls):\n",
        "    d_ = pd.read_fwf(io_(text))\n",
        "    i, d = np.split(d_, [nlvls], axis=1)\n",
        "    i_ = i.ffill().apply(pd.to_numeric, errors='ignore') \\\n",
        "        .fillna(0, downcast='infer')\n",
        "    a = [*map(i_.get, i_)]\n",
        "    names = [lvl_rename(lvl.name) for lvl in a]\n",
        "    idx = pd.MultiIndex.from_arrays(a, names=names)\n",
        "    return d.set_index(idx)"
      ],
      "execution_count": 0,
      "outputs": []
    },
    {
      "metadata": {
        "id": "vGfT4g8o4_oZ",
        "colab_type": "code",
        "colab": {
          "base_uri": "https://localhost:8080/",
          "height": 136
        },
        "outputId": "64f2136d-40fd-4338-c6ee-b4088a420164"
      },
      "cell_type": "code",
      "source": [
        "pmux(nlvls=2, text=\"\"\"\\\n",
        "     X  Y  Z\n",
        "0 a  1  1  1\n",
        "  b  1  1  1\n",
        "  c  1  1  1\n",
        "1 a  1  1  1\n",
        "  b  1  1  1\n",
        "  c  1  1  1\"\"\")"
      ],
      "execution_count": 51,
      "outputs": [
        {
          "output_type": "execute_result",
          "data": {
            "text/plain": [
              "     X  Y  Z\n",
              "0 a  1  1  1\n",
              "  b  1  1  1\n",
              "  c  1  1  1\n",
              "1 a  1  1  1\n",
              "  b  1  1  1\n",
              "  c  1  1  1"
            ]
          },
          "metadata": {
            "tags": []
          },
          "execution_count": 51
        }
      ]
    },
    {
      "metadata": {
        "id": "51jsfB07dqeG",
        "colab_type": "text"
      },
      "cell_type": "markdown",
      "source": [
        "# [Put it link to question and answer]()"
      ]
    },
    {
      "metadata": {
        "id": "MH2qXGzR8V-u",
        "colab_type": "code",
        "colab": {}
      },
      "cell_type": "code",
      "source": [
        ""
      ],
      "execution_count": 0,
      "outputs": []
    }
  ]
}