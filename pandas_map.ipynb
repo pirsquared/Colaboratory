{
  "nbformat": 4,
  "nbformat_minor": 0,
  "metadata": {
    "colab": {
      "name": "pandas_map.ipynb",
      "version": "0.3.2",
      "provenance": [],
      "collapsed_sections": [],
      "include_colab_link": true
    },
    "kernelspec": {
      "name": "python3",
      "display_name": "Python 3"
    }
  },
  "cells": [
    {
      "cell_type": "markdown",
      "metadata": {
        "id": "view-in-github",
        "colab_type": "text"
      },
      "source": [
        "[View in Colaboratory](https://colab.research.google.com/github/pirsquared/Colaboratory/blob/master/pandas_map.ipynb)"
      ]
    },
    {
      "metadata": {
        "id": "xQLkMdh_qjrh",
        "colab_type": "text"
      },
      "cell_type": "markdown",
      "source": [
        "# Setup"
      ]
    },
    {
      "metadata": {
        "id": "zsUJ4nOlo-QG",
        "colab_type": "code",
        "colab": {}
      },
      "cell_type": "code",
      "source": [
        "import pandas as pd\n",
        "\n",
        "df1 = pd.DataFrame(dict(\n",
        "    sedol=[*'ABCDEF'],\n",
        "    name='ZY YX XW WV VU UT'.split(),\n",
        "    country=[f\"C_{i}\" for i in range(6)],\n",
        "    sectorn=[45., 15., 55., 20., 30., 60.],\n",
        "), pd.Index(['U_1', 'I_2', 'U_3', 'I_4', 'U_5', 'I_6']))\n",
        "\n",
        "df2 = pd.Series({\n",
        "    10: 'Energy',\n",
        "    15: 'Materials',\n",
        "    20: 'Industrials',\n",
        "    25: 'Consumer Discretionary',\n",
        "    30: 'Consumer Staples',\n",
        "    35: 'Health Care',\n",
        "    40: 'Financials',\n",
        "    45: 'Information Technology',\n",
        "    50: 'Telecommunication Services',\n",
        "    55: 'Utilities',\n",
        "    60: 'Real Estate'\n",
        "}, name='sectorn_n').rename_axis('sectorn').to_frame()"
      ],
      "execution_count": 0,
      "outputs": []
    },
    {
      "metadata": {
        "id": "dMNOect1qnHK",
        "colab_type": "text"
      },
      "cell_type": "markdown",
      "source": [
        "## `map`\n",
        "I suspect the problem was that you were attempting to map with a `DataFrame`.  In that [link](https://stackoverflow.com/questions/46789098/create-new-column-in-dataframe-with-match-values-from-other-dataframe) you gave, @jezrael is using a `pandas.Series` in the `map` and that makes all the difference.\n",
        "\n",
        "You can pass one of two things to the `map` method\n",
        "\n",
        "1. A callable object.  Most common callable object is a function.  Each element in the `pandas.Series` is passed to the callable and in its place is what is returned from the callable.\n",
        "2. An object with a `get` method.  The `get` method would be used in place of the `callable`.  Both dictionaries and `pandas.Series` have a `get` method.\n"
      ]
    },
    {
      "metadata": {
        "id": "jElGni_AsZHJ",
        "colab_type": "text"
      },
      "cell_type": "markdown",
      "source": [
        "Ok, so what about your problem?  I suspect you tried this:"
      ]
    },
    {
      "metadata": {
        "id": "dv1Uo4oSqa3A",
        "colab_type": "code",
        "colab": {
          "base_uri": "https://localhost:8080/",
          "height": 329
        },
        "outputId": "b74b5129-f836-405b-94bc-3a46d542c85e"
      },
      "cell_type": "code",
      "source": [
        "df1.sectorn.map(df2)"
      ],
      "execution_count": 6,
      "outputs": [
        {
          "output_type": "error",
          "ename": "TypeError",
          "evalue": "ignored",
          "traceback": [
            "\u001b[0;31m---------------------------------------------------------------------------\u001b[0m",
            "\u001b[0;31mTypeError\u001b[0m                                 Traceback (most recent call last)",
            "\u001b[0;32m<ipython-input-6-cd158ad570be>\u001b[0m in \u001b[0;36m<module>\u001b[0;34m()\u001b[0m\n\u001b[0;32m----> 1\u001b[0;31m \u001b[0mdf1\u001b[0m\u001b[0;34m.\u001b[0m\u001b[0msectorn\u001b[0m\u001b[0;34m.\u001b[0m\u001b[0mmap\u001b[0m\u001b[0;34m(\u001b[0m\u001b[0mdf2\u001b[0m\u001b[0;34m)\u001b[0m\u001b[0;34m\u001b[0m\u001b[0m\n\u001b[0m",
            "\u001b[0;32m/usr/local/lib/python3.6/dist-packages/pandas/core/series.py\u001b[0m in \u001b[0;36mmap\u001b[0;34m(self, arg, na_action)\u001b[0m\n\u001b[1;32m   2352\u001b[0m         \u001b[0;32melse\u001b[0m\u001b[0;34m:\u001b[0m\u001b[0;34m\u001b[0m\u001b[0m\n\u001b[1;32m   2353\u001b[0m             \u001b[0;31m# arg is a function\u001b[0m\u001b[0;34m\u001b[0m\u001b[0;34m\u001b[0m\u001b[0m\n\u001b[0;32m-> 2354\u001b[0;31m             \u001b[0mnew_values\u001b[0m \u001b[0;34m=\u001b[0m \u001b[0mmap_f\u001b[0m\u001b[0;34m(\u001b[0m\u001b[0mvalues\u001b[0m\u001b[0;34m,\u001b[0m \u001b[0marg\u001b[0m\u001b[0;34m)\u001b[0m\u001b[0;34m\u001b[0m\u001b[0m\n\u001b[0m\u001b[1;32m   2355\u001b[0m \u001b[0;34m\u001b[0m\u001b[0m\n\u001b[1;32m   2356\u001b[0m         return self._constructor(new_values,\n",
            "\u001b[0;32mpandas/_libs/src/inference.pyx\u001b[0m in \u001b[0;36mpandas._libs.lib.map_infer\u001b[0;34m()\u001b[0m\n",
            "\u001b[0;31mTypeError\u001b[0m: 'DataFrame' object is not callable"
          ]
        }
      ]
    },
    {
      "metadata": {
        "id": "aF_KWv_-qefI",
        "colab_type": "text"
      },
      "cell_type": "markdown",
      "source": [
        "When you wanted this:"
      ]
    },
    {
      "metadata": {
        "id": "Y9aHgZHgsrLb",
        "colab_type": "code",
        "colab": {
          "base_uri": "https://localhost:8080/",
          "height": 141
        },
        "outputId": "3b018908-8e45-489c-dcb1-c7aec5a350b5"
      },
      "cell_type": "code",
      "source": [
        "df1.sectorn.map(df2.sectorn_n)"
      ],
      "execution_count": 7,
      "outputs": [
        {
          "output_type": "execute_result",
          "data": {
            "text/plain": [
              "U_1    Information Technology\n",
              "I_2                 Materials\n",
              "U_3                 Utilities\n",
              "I_4               Industrials\n",
              "U_5          Consumer Staples\n",
              "I_6               Real Estate\n",
              "Name: sectorn, dtype: object"
            ]
          },
          "metadata": {
            "tags": []
          },
          "execution_count": 7
        }
      ]
    },
    {
      "metadata": {
        "id": "822pl_Djsu0b",
        "colab_type": "text"
      },
      "cell_type": "markdown",
      "source": [
        "The subtle change from `df2` which is a `pandas.DataFrame` to `df2.sectorn_n` which is one column in the `pandas.DataFrame` and is also a `pandas.Series`.  Now, `df2.sectorn_n` has a `get` method and then magic happens."
      ]
    },
    {
      "metadata": {
        "id": "n79GUGlttG9E",
        "colab_type": "text"
      },
      "cell_type": "markdown",
      "source": [
        "This will assign that new column to the existing `df1`\n",
        "```python\n",
        "df1['sectorn_n'] = df1.sectorn.map(df2.sectorn_n)\n",
        "```\n",
        "But I use the `assign` method to create copies for demonstration so as not to alter the `pandas.DataFrame` I'm messing with."
      ]
    },
    {
      "metadata": {
        "id": "rkVAr8ievQ0F",
        "colab_type": "code",
        "colab": {
          "base_uri": "https://localhost:8080/",
          "height": 230
        },
        "outputId": "ada6a2f9-b3e6-4b09-85de-08daaa6a1427"
      },
      "cell_type": "code",
      "source": [
        "df1.assign(sectorn_n=df1.sectorn.map(df2.sectorn_n))"
      ],
      "execution_count": 12,
      "outputs": [
        {
          "output_type": "execute_result",
          "data": {
            "text/html": [
              "<div>\n",
              "<style scoped>\n",
              "    .dataframe tbody tr th:only-of-type {\n",
              "        vertical-align: middle;\n",
              "    }\n",
              "\n",
              "    .dataframe tbody tr th {\n",
              "        vertical-align: top;\n",
              "    }\n",
              "\n",
              "    .dataframe thead th {\n",
              "        text-align: right;\n",
              "    }\n",
              "</style>\n",
              "<table border=\"1\" class=\"dataframe\">\n",
              "  <thead>\n",
              "    <tr style=\"text-align: right;\">\n",
              "      <th></th>\n",
              "      <th>country</th>\n",
              "      <th>name</th>\n",
              "      <th>sectorn</th>\n",
              "      <th>sedol</th>\n",
              "      <th>sectorn_n</th>\n",
              "    </tr>\n",
              "  </thead>\n",
              "  <tbody>\n",
              "    <tr>\n",
              "      <th>U_1</th>\n",
              "      <td>C_0</td>\n",
              "      <td>ZY</td>\n",
              "      <td>45.0</td>\n",
              "      <td>A</td>\n",
              "      <td>Information Technology</td>\n",
              "    </tr>\n",
              "    <tr>\n",
              "      <th>I_2</th>\n",
              "      <td>C_1</td>\n",
              "      <td>YX</td>\n",
              "      <td>15.0</td>\n",
              "      <td>B</td>\n",
              "      <td>Materials</td>\n",
              "    </tr>\n",
              "    <tr>\n",
              "      <th>U_3</th>\n",
              "      <td>C_2</td>\n",
              "      <td>XW</td>\n",
              "      <td>55.0</td>\n",
              "      <td>C</td>\n",
              "      <td>Utilities</td>\n",
              "    </tr>\n",
              "    <tr>\n",
              "      <th>I_4</th>\n",
              "      <td>C_3</td>\n",
              "      <td>WV</td>\n",
              "      <td>20.0</td>\n",
              "      <td>D</td>\n",
              "      <td>Industrials</td>\n",
              "    </tr>\n",
              "    <tr>\n",
              "      <th>U_5</th>\n",
              "      <td>C_4</td>\n",
              "      <td>VU</td>\n",
              "      <td>30.0</td>\n",
              "      <td>E</td>\n",
              "      <td>Consumer Staples</td>\n",
              "    </tr>\n",
              "    <tr>\n",
              "      <th>I_6</th>\n",
              "      <td>C_5</td>\n",
              "      <td>UT</td>\n",
              "      <td>60.0</td>\n",
              "      <td>F</td>\n",
              "      <td>Real Estate</td>\n",
              "    </tr>\n",
              "  </tbody>\n",
              "</table>\n",
              "</div>"
            ],
            "text/plain": [
              "    country name  sectorn sedol               sectorn_n\n",
              "U_1     C_0   ZY     45.0     A  Information Technology\n",
              "I_2     C_1   YX     15.0     B               Materials\n",
              "U_3     C_2   XW     55.0     C               Utilities\n",
              "I_4     C_3   WV     20.0     D             Industrials\n",
              "U_5     C_4   VU     30.0     E        Consumer Staples\n",
              "I_6     C_5   UT     60.0     F             Real Estate"
            ]
          },
          "metadata": {
            "tags": []
          },
          "execution_count": 12
        }
      ]
    },
    {
      "metadata": {
        "id": "QpG6BAtEuvuJ",
        "colab_type": "text"
      },
      "cell_type": "markdown",
      "source": [
        "## `join`\n",
        "Another option.  Also produces a copy while leaving the original alone."
      ]
    },
    {
      "metadata": {
        "id": "RPUihS_Hu4LK",
        "colab_type": "code",
        "colab": {
          "base_uri": "https://localhost:8080/",
          "height": 230
        },
        "outputId": "eb6b4abb-a39f-4dee-f69e-e12f7632968d"
      },
      "cell_type": "code",
      "source": [
        "df1.join(df2, on='sectorn')"
      ],
      "execution_count": 13,
      "outputs": [
        {
          "output_type": "execute_result",
          "data": {
            "text/html": [
              "<div>\n",
              "<style scoped>\n",
              "    .dataframe tbody tr th:only-of-type {\n",
              "        vertical-align: middle;\n",
              "    }\n",
              "\n",
              "    .dataframe tbody tr th {\n",
              "        vertical-align: top;\n",
              "    }\n",
              "\n",
              "    .dataframe thead th {\n",
              "        text-align: right;\n",
              "    }\n",
              "</style>\n",
              "<table border=\"1\" class=\"dataframe\">\n",
              "  <thead>\n",
              "    <tr style=\"text-align: right;\">\n",
              "      <th></th>\n",
              "      <th>country</th>\n",
              "      <th>name</th>\n",
              "      <th>sectorn</th>\n",
              "      <th>sedol</th>\n",
              "      <th>sectorn_n</th>\n",
              "    </tr>\n",
              "  </thead>\n",
              "  <tbody>\n",
              "    <tr>\n",
              "      <th>U_1</th>\n",
              "      <td>C_0</td>\n",
              "      <td>ZY</td>\n",
              "      <td>45</td>\n",
              "      <td>A</td>\n",
              "      <td>Information Technology</td>\n",
              "    </tr>\n",
              "    <tr>\n",
              "      <th>I_2</th>\n",
              "      <td>C_1</td>\n",
              "      <td>YX</td>\n",
              "      <td>15</td>\n",
              "      <td>B</td>\n",
              "      <td>Materials</td>\n",
              "    </tr>\n",
              "    <tr>\n",
              "      <th>U_3</th>\n",
              "      <td>C_2</td>\n",
              "      <td>XW</td>\n",
              "      <td>55</td>\n",
              "      <td>C</td>\n",
              "      <td>Utilities</td>\n",
              "    </tr>\n",
              "    <tr>\n",
              "      <th>I_4</th>\n",
              "      <td>C_3</td>\n",
              "      <td>WV</td>\n",
              "      <td>20</td>\n",
              "      <td>D</td>\n",
              "      <td>Industrials</td>\n",
              "    </tr>\n",
              "    <tr>\n",
              "      <th>U_5</th>\n",
              "      <td>C_4</td>\n",
              "      <td>VU</td>\n",
              "      <td>30</td>\n",
              "      <td>E</td>\n",
              "      <td>Consumer Staples</td>\n",
              "    </tr>\n",
              "    <tr>\n",
              "      <th>I_6</th>\n",
              "      <td>C_5</td>\n",
              "      <td>UT</td>\n",
              "      <td>60</td>\n",
              "      <td>F</td>\n",
              "      <td>Real Estate</td>\n",
              "    </tr>\n",
              "  </tbody>\n",
              "</table>\n",
              "</div>"
            ],
            "text/plain": [
              "    country name sectorn sedol               sectorn_n\n",
              "U_1     C_0   ZY      45     A  Information Technology\n",
              "I_2     C_1   YX      15     B               Materials\n",
              "U_3     C_2   XW      55     C               Utilities\n",
              "I_4     C_3   WV      20     D             Industrials\n",
              "U_5     C_4   VU      30     E        Consumer Staples\n",
              "I_6     C_5   UT      60     F             Real Estate"
            ]
          },
          "metadata": {
            "tags": []
          },
          "execution_count": 13
        }
      ]
    },
    {
      "metadata": {
        "id": "Ztv7GfG3vlym",
        "colab_type": "text"
      },
      "cell_type": "markdown",
      "source": [
        "## `merge`"
      ]
    },
    {
      "metadata": {
        "id": "sO7aZh-Gvpim",
        "colab_type": "code",
        "colab": {
          "base_uri": "https://localhost:8080/",
          "height": 230
        },
        "outputId": "05296f28-c822-4cbc-af96-1fd5f80693df"
      },
      "cell_type": "code",
      "source": [
        "df1.merge(df2, left_on='sectorn', right_index=True)"
      ],
      "execution_count": 16,
      "outputs": [
        {
          "output_type": "execute_result",
          "data": {
            "text/html": [
              "<div>\n",
              "<style scoped>\n",
              "    .dataframe tbody tr th:only-of-type {\n",
              "        vertical-align: middle;\n",
              "    }\n",
              "\n",
              "    .dataframe tbody tr th {\n",
              "        vertical-align: top;\n",
              "    }\n",
              "\n",
              "    .dataframe thead th {\n",
              "        text-align: right;\n",
              "    }\n",
              "</style>\n",
              "<table border=\"1\" class=\"dataframe\">\n",
              "  <thead>\n",
              "    <tr style=\"text-align: right;\">\n",
              "      <th></th>\n",
              "      <th>country</th>\n",
              "      <th>name</th>\n",
              "      <th>sectorn</th>\n",
              "      <th>sedol</th>\n",
              "      <th>sectorn_n</th>\n",
              "    </tr>\n",
              "  </thead>\n",
              "  <tbody>\n",
              "    <tr>\n",
              "      <th>U_1</th>\n",
              "      <td>C_0</td>\n",
              "      <td>ZY</td>\n",
              "      <td>45</td>\n",
              "      <td>A</td>\n",
              "      <td>Information Technology</td>\n",
              "    </tr>\n",
              "    <tr>\n",
              "      <th>I_2</th>\n",
              "      <td>C_1</td>\n",
              "      <td>YX</td>\n",
              "      <td>15</td>\n",
              "      <td>B</td>\n",
              "      <td>Materials</td>\n",
              "    </tr>\n",
              "    <tr>\n",
              "      <th>U_3</th>\n",
              "      <td>C_2</td>\n",
              "      <td>XW</td>\n",
              "      <td>55</td>\n",
              "      <td>C</td>\n",
              "      <td>Utilities</td>\n",
              "    </tr>\n",
              "    <tr>\n",
              "      <th>I_4</th>\n",
              "      <td>C_3</td>\n",
              "      <td>WV</td>\n",
              "      <td>20</td>\n",
              "      <td>D</td>\n",
              "      <td>Industrials</td>\n",
              "    </tr>\n",
              "    <tr>\n",
              "      <th>U_5</th>\n",
              "      <td>C_4</td>\n",
              "      <td>VU</td>\n",
              "      <td>30</td>\n",
              "      <td>E</td>\n",
              "      <td>Consumer Staples</td>\n",
              "    </tr>\n",
              "    <tr>\n",
              "      <th>I_6</th>\n",
              "      <td>C_5</td>\n",
              "      <td>UT</td>\n",
              "      <td>60</td>\n",
              "      <td>F</td>\n",
              "      <td>Real Estate</td>\n",
              "    </tr>\n",
              "  </tbody>\n",
              "</table>\n",
              "</div>"
            ],
            "text/plain": [
              "    country name sectorn sedol               sectorn_n\n",
              "U_1     C_0   ZY      45     A  Information Technology\n",
              "I_2     C_1   YX      15     B               Materials\n",
              "U_3     C_2   XW      55     C               Utilities\n",
              "I_4     C_3   WV      20     D             Industrials\n",
              "U_5     C_4   VU      30     E        Consumer Staples\n",
              "I_6     C_5   UT      60     F             Real Estate"
            ]
          },
          "metadata": {
            "tags": []
          },
          "execution_count": 16
        }
      ]
    },
    {
      "metadata": {
        "id": "55V39sHlvvO_",
        "colab_type": "code",
        "colab": {
          "base_uri": "https://localhost:8080/",
          "height": 230
        },
        "outputId": "50fbb926-8c18-45a1-e400-7115cae4d7ec"
      },
      "cell_type": "code",
      "source": [
        "df1.merge(df2.reset_index())"
      ],
      "execution_count": 17,
      "outputs": [
        {
          "output_type": "execute_result",
          "data": {
            "text/html": [
              "<div>\n",
              "<style scoped>\n",
              "    .dataframe tbody tr th:only-of-type {\n",
              "        vertical-align: middle;\n",
              "    }\n",
              "\n",
              "    .dataframe tbody tr th {\n",
              "        vertical-align: top;\n",
              "    }\n",
              "\n",
              "    .dataframe thead th {\n",
              "        text-align: right;\n",
              "    }\n",
              "</style>\n",
              "<table border=\"1\" class=\"dataframe\">\n",
              "  <thead>\n",
              "    <tr style=\"text-align: right;\">\n",
              "      <th></th>\n",
              "      <th>country</th>\n",
              "      <th>name</th>\n",
              "      <th>sectorn</th>\n",
              "      <th>sedol</th>\n",
              "      <th>sectorn_n</th>\n",
              "    </tr>\n",
              "  </thead>\n",
              "  <tbody>\n",
              "    <tr>\n",
              "      <th>0</th>\n",
              "      <td>C_0</td>\n",
              "      <td>ZY</td>\n",
              "      <td>45</td>\n",
              "      <td>A</td>\n",
              "      <td>Information Technology</td>\n",
              "    </tr>\n",
              "    <tr>\n",
              "      <th>1</th>\n",
              "      <td>C_1</td>\n",
              "      <td>YX</td>\n",
              "      <td>15</td>\n",
              "      <td>B</td>\n",
              "      <td>Materials</td>\n",
              "    </tr>\n",
              "    <tr>\n",
              "      <th>2</th>\n",
              "      <td>C_2</td>\n",
              "      <td>XW</td>\n",
              "      <td>55</td>\n",
              "      <td>C</td>\n",
              "      <td>Utilities</td>\n",
              "    </tr>\n",
              "    <tr>\n",
              "      <th>3</th>\n",
              "      <td>C_3</td>\n",
              "      <td>WV</td>\n",
              "      <td>20</td>\n",
              "      <td>D</td>\n",
              "      <td>Industrials</td>\n",
              "    </tr>\n",
              "    <tr>\n",
              "      <th>4</th>\n",
              "      <td>C_4</td>\n",
              "      <td>VU</td>\n",
              "      <td>30</td>\n",
              "      <td>E</td>\n",
              "      <td>Consumer Staples</td>\n",
              "    </tr>\n",
              "    <tr>\n",
              "      <th>5</th>\n",
              "      <td>C_5</td>\n",
              "      <td>UT</td>\n",
              "      <td>60</td>\n",
              "      <td>F</td>\n",
              "      <td>Real Estate</td>\n",
              "    </tr>\n",
              "  </tbody>\n",
              "</table>\n",
              "</div>"
            ],
            "text/plain": [
              "  country name sectorn sedol               sectorn_n\n",
              "0     C_0   ZY      45     A  Information Technology\n",
              "1     C_1   YX      15     B               Materials\n",
              "2     C_2   XW      55     C               Utilities\n",
              "3     C_3   WV      20     D             Industrials\n",
              "4     C_4   VU      30     E        Consumer Staples\n",
              "5     C_5   UT      60     F             Real Estate"
            ]
          },
          "metadata": {
            "tags": []
          },
          "execution_count": 17
        }
      ]
    }
  ]
}