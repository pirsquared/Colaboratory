{
  "nbformat": 4,
  "nbformat_minor": 0,
  "metadata": {
    "colab": {
      "name": "pandas subset two dataframes based on multiple columns.ipynb",
      "version": "0.3.2",
      "provenance": [],
      "collapsed_sections": [],
      "include_colab_link": true
    },
    "kernelspec": {
      "name": "python3",
      "display_name": "Python 3"
    }
  },
  "cells": [
    {
      "cell_type": "markdown",
      "metadata": {
        "id": "view-in-github",
        "colab_type": "text"
      },
      "source": [
        "[View in Colaboratory](https://colab.research.google.com/github/pirsquared/Colaboratory/blob/master/pandas_subset_two_dataframes_based_on_multiple_columns.ipynb)"
      ]
    },
    {
      "metadata": {
        "id": "Jx6-73sdfc3u",
        "colab_type": "text"
      },
      "cell_type": "markdown",
      "source": [
        "# Prep Runtime\n"
      ]
    },
    {
      "metadata": {
        "id": "4s7We_Vcco2S",
        "colab_type": "text"
      },
      "cell_type": "markdown",
      "source": [
        "# Imports\n",
        "Many things I use for answering questions"
      ]
    },
    {
      "metadata": {
        "id": "e74_WsX8kNgI",
        "colab_type": "code",
        "colab": {}
      },
      "cell_type": "code",
      "source": [
        "import pandas as pd\n",
        "\n",
        "pd.set_option(\n",
        "    'display.notebook_repr_html', False,\n",
        "    'expand_frame_repr', False,\n",
        "    'display.max_colwidth', 50\n",
        ")\n",
        "%matplotlib inline"
      ],
      "execution_count": 0,
      "outputs": []
    },
    {
      "metadata": {
        "id": "YsQLLFRKcxkh",
        "colab_type": "text"
      },
      "cell_type": "markdown",
      "source": [
        "# Parsing functions\n",
        "* `rpd` is a generic parser taking a string and passing it through `StringIO`"
      ]
    },
    {
      "metadata": {
        "id": "881_wCNHmZcJ",
        "colab_type": "code",
        "colab": {}
      },
      "cell_type": "code",
      "source": [
        "def rpd(text='', sep='\\s{1,}', *args, **kwargs):\n",
        "  kw = dict(engine='python', sep=sep)\n",
        "  return pd.read_csv(pd.io.common.StringIO(text), *args, **kw, **kwargs)"
      ],
      "execution_count": 0,
      "outputs": []
    },
    {
      "metadata": {
        "id": "51jsfB07dqeG",
        "colab_type": "text"
      },
      "cell_type": "markdown",
      "source": [
        "# [pandas subset two dataframes based on multiple columns](https://stackoverflow.com/questions/51913604/pandas-subset-two-dataframes-based-on-multiple-columns)"
      ]
    },
    {
      "metadata": {
        "id": "wAeiZJe_cYm_",
        "colab_type": "code",
        "colab": {}
      },
      "cell_type": "code",
      "source": [
        "df1 = rpd(sep=',\\s*', text=\"\"\"\\\n",
        "name, age, id, acctno\n",
        "abc, 23, 1001, 238238\n",
        "dhd, 22, 2001, 299299\n",
        "ddg, 30, 2920, 101010\n",
        "ssd, 53, 1901, 238003\n",
        "ggh, 52, 2221, 222222\n",
        "eet, 50, 9920, 111111\"\"\")\n",
        "\n",
        "df2 = rpd(sep=',\\s*', text=\"\"\"\\\n",
        "name, age, id, acctno\n",
        "abc, 11, 1001, 238238\n",
        "def, 55, 2001, 299299\n",
        "xxy, 90, 2020, 101010\"\"\")"
      ],
      "execution_count": 0,
      "outputs": []
    },
    {
      "metadata": {
        "id": "7diwtoR7rXBS",
        "colab_type": "code",
        "colab": {
          "base_uri": "https://localhost:8080/",
          "height": 136
        },
        "outputId": "2a0390e3-8f1e-447a-c045-d72bbfd722b6"
      },
      "cell_type": "code",
      "source": [
        "df1"
      ],
      "execution_count": 13,
      "outputs": [
        {
          "output_type": "execute_result",
          "data": {
            "text/plain": [
              "  name  age    id  acctno\n",
              "0  abc   23  1001  238238\n",
              "1  dhd   22  2001  299299\n",
              "2  ddg   30  2920  101010\n",
              "3  ssd   53  1901  238003\n",
              "4  ggh   52  2221  222222\n",
              "5  eet   50  9920  111111"
            ]
          },
          "metadata": {
            "tags": []
          },
          "execution_count": 13
        }
      ]
    },
    {
      "metadata": {
        "id": "_DorREqpr2V7",
        "colab_type": "code",
        "colab": {
          "base_uri": "https://localhost:8080/",
          "height": 85
        },
        "outputId": "2ac4bafb-663f-413b-96fd-ee83f0e858a3"
      },
      "cell_type": "code",
      "source": [
        "df2"
      ],
      "execution_count": 14,
      "outputs": [
        {
          "output_type": "execute_result",
          "data": {
            "text/plain": [
              "  name  age    id  acctno\n",
              "0  abc   11  1001  238238\n",
              "1  def   55  2001  299299\n",
              "2  xxy   90  2020  101010"
            ]
          },
          "metadata": {
            "tags": []
          },
          "execution_count": 14
        }
      ]
    },
    {
      "metadata": {
        "id": "PGXpDMnbr2wq",
        "colab_type": "code",
        "colab": {
          "base_uri": "https://localhost:8080/",
          "height": 102
        },
        "outputId": "0bbb10e0-c4b9-454d-efd4-9ea697e103b7"
      },
      "cell_type": "code",
      "source": [
        "df2_tups = [*zip(df2.id, df2.acctno)]\n",
        "mask = [t not in df2_tups for t in zip(df1.id, df1.acctno)]\n",
        "df1[mask]"
      ],
      "execution_count": 17,
      "outputs": [
        {
          "output_type": "execute_result",
          "data": {
            "text/plain": [
              "  name  age    id  acctno\n",
              "2  ddg   30  2920  101010\n",
              "3  ssd   53  1901  238003\n",
              "4  ggh   52  2221  222222\n",
              "5  eet   50  9920  111111"
            ]
          },
          "metadata": {
            "tags": []
          },
          "execution_count": 17
        }
      ]
    },
    {
      "metadata": {
        "id": "k3__XVMztJzB",
        "colab_type": "code",
        "colab": {}
      },
      "cell_type": "code",
      "source": [
        ""
      ],
      "execution_count": 0,
      "outputs": []
    }
  ]
}