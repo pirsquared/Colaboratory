{
  "nbformat": 4,
  "nbformat_minor": 0,
  "metadata": {
    "colab": {
      "name": "pandas subset two dataframes based on multiple columns.ipynb",
      "version": "0.3.2",
      "provenance": [],
      "collapsed_sections": [],
      "include_colab_link": true
    },
    "kernelspec": {
      "name": "python3",
      "display_name": "Python 3"
    }
  },
  "cells": [
    {
      "cell_type": "markdown",
      "metadata": {
        "id": "view-in-github",
        "colab_type": "text"
      },
      "source": [
        "[View in Colaboratory](https://colab.research.google.com/github/pirsquared/Colaboratory/blob/master/pandas_subset_two_dataframes_based_on_multiple_columns.ipynb)"
      ]
    },
    {
      "metadata": {
        "id": "4s7We_Vcco2S",
        "colab_type": "text"
      },
      "cell_type": "markdown",
      "source": [
        "# Imports"
      ]
    },
    {
      "metadata": {
        "id": "e74_WsX8kNgI",
        "colab_type": "code",
        "colab": {}
      },
      "cell_type": "code",
      "source": [
        "import pandas as pd\n",
        "\n",
        "pd.set_option(\n",
        "    'display.notebook_repr_html', False,\n",
        "    'expand_frame_repr', False,\n",
        "    'display.max_colwidth', 50\n",
        ")"
      ],
      "execution_count": 0,
      "outputs": []
    },
    {
      "metadata": {
        "id": "YsQLLFRKcxkh",
        "colab_type": "text"
      },
      "cell_type": "markdown",
      "source": [
        "# Parsing functions\n",
        "* `rpd` is a generic parser taking a string and passing it through `StringIO`"
      ]
    },
    {
      "metadata": {
        "id": "881_wCNHmZcJ",
        "colab_type": "code",
        "colab": {}
      },
      "cell_type": "code",
      "source": [
        "def rpd(text='', sep='\\s{1,}', *args, **kwargs):\n",
        "  kw = dict(engine='python', sep=sep)\n",
        "  return pd.read_csv(pd.io.common.StringIO(text), *args, **kw, **kwargs)"
      ],
      "execution_count": 0,
      "outputs": []
    },
    {
      "metadata": {
        "id": "51jsfB07dqeG",
        "colab_type": "text"
      },
      "cell_type": "markdown",
      "source": [
        "# [pandas subset two dataframes based on multiple columns](https://stackoverflow.com/questions/51913604/pandas-subset-two-dataframes-based-on-multiple-columns)"
      ]
    },
    {
      "metadata": {
        "id": "wAeiZJe_cYm_",
        "colab_type": "code",
        "colab": {}
      },
      "cell_type": "code",
      "source": [
        "df1 = rpd(sep=',\\s*', text=\"\"\"\\\n",
        "name, age, id, acctno\n",
        "abc, 23, 1001, 238238\n",
        "dhd, 22, 2001, 299299\n",
        "ddg, 30, 2920, 101010\n",
        "ssd, 53, 1901, 238003\n",
        "ggh, 52, 2221, 222222\n",
        "eet, 50, 9920, 111111\"\"\")\n",
        "\n",
        "df2 = rpd(sep=',\\s*', text=\"\"\"\\\n",
        "name, age, id, acctno\n",
        "abc, 11, 1001, 238238\n",
        "def, 55, 2001, 299299\n",
        "xxy, 90, 2020, 101010\"\"\")"
      ],
      "execution_count": 0,
      "outputs": []
    },
    {
      "metadata": {
        "id": "7diwtoR7rXBS",
        "colab_type": "code",
        "colab": {
          "base_uri": "https://localhost:8080/",
          "height": 136
        },
        "outputId": "5e81b2ad-46ec-4c8b-8bcd-93a17882d42c"
      },
      "cell_type": "code",
      "source": [
        "df1"
      ],
      "execution_count": 27,
      "outputs": [
        {
          "output_type": "execute_result",
          "data": {
            "text/plain": [
              "  name  age    id  acctno\n",
              "0  abc   23  1001  238238\n",
              "1  dhd   22  2001  299299\n",
              "2  ddg   30  2920  101010\n",
              "3  ssd   53  1901  238003\n",
              "4  ggh   52  2221  222222\n",
              "5  eet   50  9920  111111"
            ]
          },
          "metadata": {
            "tags": []
          },
          "execution_count": 27
        }
      ]
    },
    {
      "metadata": {
        "id": "_DorREqpr2V7",
        "colab_type": "code",
        "colab": {
          "base_uri": "https://localhost:8080/",
          "height": 85
        },
        "outputId": "42bdb2cd-69de-4dc0-ae2e-1f4cef64adec"
      },
      "cell_type": "code",
      "source": [
        "df2"
      ],
      "execution_count": 28,
      "outputs": [
        {
          "output_type": "execute_result",
          "data": {
            "text/plain": [
              "  name  age    id  acctno\n",
              "0  abc   11  1001  238238\n",
              "1  def   55  2001  299299\n",
              "2  xxy   90  2020  101010"
            ]
          },
          "metadata": {
            "tags": []
          },
          "execution_count": 28
        }
      ]
    },
    {
      "metadata": {
        "id": "iPb5UHLfw8pk",
        "colab_type": "text"
      },
      "cell_type": "markdown",
      "source": [
        "# Use `mask` for `df1` tuple in `df2` tuples"
      ]
    },
    {
      "metadata": {
        "id": "PGXpDMnbr2wq",
        "colab_type": "code",
        "colab": {
          "base_uri": "https://localhost:8080/",
          "height": 102
        },
        "outputId": "ce7f64ba-2faf-4f92-cabf-58079cd60439"
      },
      "cell_type": "code",
      "source": [
        "df2_tups = [*zip(df2.id, df2.acctno)]\n",
        "mask = [t not in df2_tups for t in zip(df1.id, df1.acctno)]\n",
        "df1[mask]"
      ],
      "execution_count": 29,
      "outputs": [
        {
          "output_type": "execute_result",
          "data": {
            "text/plain": [
              "  name  age    id  acctno\n",
              "2  ddg   30  2920  101010\n",
              "3  ssd   53  1901  238003\n",
              "4  ggh   52  2221  222222\n",
              "5  eet   50  9920  111111"
            ]
          },
          "metadata": {
            "tags": []
          },
          "execution_count": 29
        }
      ]
    },
    {
      "metadata": {
        "id": "5Ea77B1SxFPZ",
        "colab_type": "text"
      },
      "cell_type": "markdown",
      "source": [
        "# Use `merge`"
      ]
    },
    {
      "metadata": {
        "id": "k3__XVMztJzB",
        "colab_type": "code",
        "colab": {
          "base_uri": "https://localhost:8080/",
          "height": 102
        },
        "outputId": "2fafa4ec-5c70-4b7e-c160-5aab991bd97e"
      },
      "cell_type": "code",
      "source": [
        "df1.merge(\n",
        "    df2[['id', 'acctno']], how='left', indicator=True\n",
        ").query('_merge == \"left_only\"').drop('_merge', 1)"
      ],
      "execution_count": 30,
      "outputs": [
        {
          "output_type": "execute_result",
          "data": {
            "text/plain": [
              "  name  age    id  acctno\n",
              "2  ddg   30  2920  101010\n",
              "3  ssd   53  1901  238003\n",
              "4  ggh   52  2221  222222\n",
              "5  eet   50  9920  111111"
            ]
          },
          "metadata": {
            "tags": []
          },
          "execution_count": 30
        }
      ]
    },
    {
      "metadata": {
        "id": "F7XRUZWkxK9S",
        "colab_type": "code",
        "colab": {}
      },
      "cell_type": "code",
      "source": [
        ""
      ],
      "execution_count": 0,
      "outputs": []
    }
  ]
}